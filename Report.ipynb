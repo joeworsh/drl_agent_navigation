{
 "cells": [
  {
   "cell_type": "code",
   "execution_count": 1,
   "id": "b119fa72-6a7d-43f8-b9f7-d31a34e4e361",
   "metadata": {},
   "outputs": [],
   "source": [
    "import numpy as np"
   ]
  },
  {
   "cell_type": "code",
   "execution_count": 2,
   "id": "82c0371b-c773-4bc2-a040-9c6b19f33c5a",
   "metadata": {},
   "outputs": [],
   "source": [
    "from matplotlib import pyplot as plt"
   ]
  },
  {
   "cell_type": "markdown",
   "id": "c41b1a10-4f59-4cd3-8f48-cf3eec1425f1",
   "metadata": {},
   "source": [
    "# Banana Collection DRL Report"
   ]
  },
  {
   "cell_type": "markdown",
   "id": "80b8a4ca-6c12-497c-913f-2b97a6b287ba",
   "metadata": {},
   "source": [
    "This report presents the experiment results collected during the [Udacity DRL Nanodegree](https://www.udacity.com/course/deep-reinforcement-learning-nanodegree--nd893)\n",
    "[Project 1 - Navigation.](https://github.com/udacity/deep-reinforcement-learning/tree/master/p1_navigation). This report is organized as follows:\n",
    "1) [Algorithm Details](#Algorithm-Details)\n",
    "1) [Experimental Approach](#Experimental-Approach)\n",
    "1) [Model Results](#Model-Results)\n",
    "1) [Conclusion](#Conclusion)"
   ]
  },
  {
   "cell_type": "markdown",
   "id": "2efa95d0-401c-4b48-a276-2d40122350fa",
   "metadata": {},
   "source": [
    "## Algorithm Details"
   ]
  },
  {
   "cell_type": "markdown",
   "id": "ff37060c-f7c6-41b0-adaa-971d736e7ceb",
   "metadata": {},
   "source": [
    "### Reinforcement Learning Theory"
   ]
  },
  {
   "cell_type": "markdown",
   "id": "a217cae3-c9c7-4caf-979d-6b42ee389078",
   "metadata": {},
   "source": [
    "The environment, described in detail [here](https://github.com/joeworsh/drl_agent_navigation/blob/main/README.md), is well suited for a Deep Reinforcement Learning (DRL) approach. Reinforcement Learning, is a form of machine learning that is designed to optimize policies (i.e. decision makers) which know how to take optimal actions within an environment to reap some optimal reward or return from the environment. Mathematically we can represent the environment and the policy as:\n",
    "<div style=\"font-size:16px\">\n",
    "$$\\tag{1}\n",
    "(s_{t+1}, r_{t+1}) = env(s_t, a_t),\n",
    "$$\n",
    "$$\\tag{2}\n",
    "a_t = \\pi(s_t).\n",
    "$$\n",
    "</div>\n",
    "where:\n",
    "\n",
    "* $s_t$ is the environment state at time $t$\n",
    "* $a_t$ is the action performed at time $t$\n",
    "* $r_t$ is the reward from the environment received at time $t$\n",
    "* $\\pi$ denotes the policy which decides on the action to perform given the current environment state\n",
    "\n",
    "This environment will run from time $0 \\leq t \\leq T$ with $T$ denoting the final timestep."
   ]
  },
  {
   "cell_type": "markdown",
   "id": "adec3657-c777-4373-82ab-710135094d5c",
   "metadata": {},
   "source": [
    "The objective is to find an optimal policy, denoted $\\pi_*$, which maximizes the cumulative reward received over all time steps. This is more than just picking an action that will return the best $r_t$ at every timestep $t$, the agent must consider future rewards as well. There are instances where an undesirable action may lead to a larger reward many states in the future. It is important to optimize and that cumulative reward to learn more realistic and better performing policies. The cumulative return is defined at each timestep $t$ as the current reward and all future rewards (not including past rewards):\n",
    "<div style=\"font-size:16px\">\n",
    "$$\\tag{3}\n",
    "G_t=\\sum_{i=0}^{T-t} r_{t+i}.\n",
    "$$\n",
    "</div>"
   ]
  },
  {
   "cell_type": "markdown",
   "id": "6d551d06-1afb-490c-b1c3-787384760212",
   "metadata": {},
   "source": [
    "The difficulty here is that in practice we don't know these future rewards. The only thing we know with certainty is the past and current rewards. The best we can do here is predict the expected rewards the agent will receive if it were to follow a known policy $\\pi$. This concept is denoted mathematically as:\n",
    "<div style=\"font-size:16px\">\n",
    "$$\\tag{4}\n",
    "\\tilde{G}_t=\\mathbb{E}_\\pi\\left[\\sum_{i=0}^{T-t} r_{\\pi, t+i}\\right]\n",
    "$$\n",
    "</div>\n",
    "where $r_{\\pi, i}$ is the reward received from $env(s_i, \\pi(s_i))$. Here the policy $\\pi$ is being used to anticipate the future states, and an expectation is used to represent uncertainty about those future returns."
   ]
  },
  {
   "cell_type": "markdown",
   "id": "33c402a8-f96f-444a-89da-e2ef7eb6fa64",
   "metadata": {},
   "source": [
    "One important addition must be made in order to handle this uncertainty: how confident are we in our ability to predict the future rewards? If we are very confident then it would make sense to consider all future rewards with equal weighting to ensure we getting the highest cumulative reward possible. However, if we're not confident in our ability to predict future rewards we need to consider that error to ensure we don't act too confidently when we're wrong. This is addressed with a discounting factor $0 \\leq \\gamma \\leq 1$ which is exponentially applied at each timestep as:\n",
    "<div style=\"font-size:16px\">\n",
    "$$\\tag{5}\n",
    "\\tilde{G}_t=\\mathbb{E}_\\pi\\left[\\sum_{i=0}^{T-t} \\gamma^i r_{\\pi, t+i}\\right].\n",
    "$$\n",
    "</div>\n",
    "The farther this equations gets from the current time $t$ the smaller this discount factor gets. The discount is visualized below for several different values of $\\gamma$ up $1000$ timesteps forward."
   ]
  },
  {
   "cell_type": "code",
   "execution_count": 6,
   "id": "46186358-bf50-4ee2-aaec-151b310f3277",
   "metadata": {},
   "outputs": [
    {
     "data": {
      "image/png": "[encoded data removed]",
      "text/plain": [
       "<Figure size 576x432 with 1 Axes>"
      ]
     },
     "metadata": {
      "needs_background": "light"
     },
     "output_type": "display_data"
    }
   ],
   "source": [
    "plt.figure(figsize=(8,6))\n",
    "g_vals = [1.0, 0.999, 0.99, 0.9, 0.5, 0.1, 0.0]\n",
    "g = np.array(g_vals).reshape([-1, 1])\n",
    "g = np.tile(g, [1, 1000])\n",
    "g = np.cumprod(g, axis=1)\n",
    "for g_val, g_axis in zip(g_vals, g):\n",
    "    plt.plot(g_axis, label=f\"$\\gamma={g_val}$\")\n",
    "plt.xlabel(\"Time into future $i$\")\n",
    "plt.ylabel(\"$\\gamma$\")\n",
    "plt.legend()\n",
    "plt.show()"
   ]
  },
  {
   "cell_type": "markdown",
   "id": "9ddfb56d-b9fc-4a44-9dce-086e2b3c5310",
   "metadata": {},
   "source": [
    "It is evident here how far into the future each of these $\\gamma$ values will look. The selection of $\\gamma$ is of paramount importance with every Reinforcement Learning problem."
   ]
  },
  {
   "cell_type": "markdown",
   "id": "003e0bc8-15e8-499d-877c-b9ba526f9a24",
   "metadata": {},
   "source": [
    "An important realization emerges while inspecting the formula of $\\tilde{G}_t$ above. This represents the \"score-to-go\" where at the final timestep $T$, $G_T=r_T$ and $G_{T-1}=r_{T-1} + G_T$. This recursive pattern holds true for any value of $t$: $G_t=r_t+G_{t+1}$. This recursive pattern is the same pattern that is used in [Dynammic Programming](https://en.wikipedia.org/wiki/Dynamic_programming) (DP), which is the discipline of optimizing sequential (dynamic) problems. In DP this is called the [Bellman Equation](https://en.wikipedia.org/wiki/Bellman_equation) and is traditionally represented as the <b>value $v$</b> of a state. In the RL paradigm the value of a state (with discounting) is defined as:\n",
    "<div style=\"font-size:16px\">\n",
    "$$\\tag{6}\n",
    "v_\\pi(s)=\\mathbb{E}_\\pi\\left[r_t + \\gamma v_\\pi(s_{t+1}) \\; \\middle| \\; s_t=s\\right].\n",
    "$$\n",
    "</div>"
   ]
  },
  {
   "cell_type": "markdown",
   "id": "104ea543-cf6d-4ff2-8fe7-a469c35e2b8b",
   "metadata": {},
   "source": [
    "<a name=\"gamma\"></a>This value function is important, but it still doesn't give any information on which action should be selected at any state. The value function can be adapted to consider the value of an action at any given state easily. This is called the <b>action-value</b> function, <b>$q$</b>:\n",
    "<div style=\"font-size:16px\">\n",
    "$$\\tag{7}\n",
    "q_\\pi(s, a)=\\mathbb{E}_\\pi\\left[r_t + \\gamma \\; \\underset{a_{t+1}}{\\text{max}}\\:q_\\pi(s_{t+1}, a_{t+1}) \\; \\middle| \\; s_t=s, a_t=a\\right].\n",
    "$$\n",
    "</div>"
   ]
  },
  {
   "cell_type": "markdown",
   "id": "7903cf20-0b5b-4b11-9b0c-2ef3af5b5123",
   "metadata": {},
   "source": [
    "$q_\\pi$ tells us the expected cumulative return of selecting action $a$ given state $s$ and then continuing to follow policy $\\pi$ until the episode ends. It accomplishes this was the recurrent relation from the Bellman Equation. The importance of this equation is that it identifies what truely needs to be learned for any decision making process. An optimal policy, $\\pi_*$, will always select the action that maximizes it's expected cumulative return:\n",
    "<div style=\"font-size:16px\">\n",
    "$$\\tag{8}\n",
    "\\pi_*(s) = \\underset{a}{arg\\:\\text{max}}\\:q(s, a).\n",
    "$$\n",
    "</div>"
   ]
  },
  {
   "cell_type": "markdown",
   "id": "77557af8-8651-48c0-bb28-f53308f4a2e5",
   "metadata": {},
   "source": [
    "The objective then is to learn a good representation of the action-value function $q$. If we can learn a good representation of $q$ then we know how to use it to act optimally within the environment."
   ]
  },
  {
   "cell_type": "markdown",
   "id": "ed50d5ae-a875-4a25-a027-f550891c1c51",
   "metadata": {},
   "source": [
    "### Learning $q(s, a)$"
   ]
  },
  {
   "cell_type": "markdown",
   "id": "5c9b5f49-9720-4f84-95dd-c4c441b651be",
   "metadata": {},
   "source": [
    "The action-value function can be represented by any parametric or non-parametric mathematical structure that is capable of handling the forms of $s$ and $a$ as inputs and producing a real-valued number as output. This is simple when $s$ and $a$ are both discrete options from a finite set. For example:\n",
    "\n",
    "* $s \\in \\left[1, 2, 3, 4, 5, 6, 7, 8, 9 \\right]$\n",
    "* $a \\in \\left[\\text{move up}, \\text{move down}, \\text{move left}, \\text{move right} \\right]$\n",
    "\n",
    "which can represent discretes cell on a 3x3 grid and options to move in each direction. When states and actions are discrete like this a table can be used where the rows are the different states, the columns are the different actions and the value in each cell is $q(s, a)$. However, a table will not work if one or both of $s$ and $a$ are not integers that come from a finite set."
   ]
  },
  {
   "cell_type": "markdown",
   "id": "b5382f9c-1c93-47d0-9cf7-e14ed45a428c",
   "metadata": {},
   "source": [
    "#### Deep Q-Networks"
   ]
  },
  {
   "cell_type": "markdown",
   "id": "933649b8-2416-47a8-a4dd-65c93b9863a2",
   "metadata": {},
   "source": [
    "When the inputs are one or more real-valued numbers, represented by the $n$-dimensional vector $s \\in \\mathbb{R}^n$, this vector would need to be discretized in order to use a table to represent $q(s, a)$. However, it may not be feasible to discretize $s$ in a way that is both sufficiently representative and computationally feasible. In this case a model capable of handling real-valued vector input, such as a [neural network](https://en.wikipedia.org/wiki/Neural_network), is required. In this case the input to the neural network is the real-valued $n$-dimensional vector $s$ and it has an output node for each of the $m$ actions. The value in each of the output cells corresponds to the action-value for the input cell and the associated action. An example of this neural network architecture is shown below:\n",
    "\n",
    "<div style=\"text-align:center;\">\n",
    "<img src=\"docs/nn_q_example.png\" alt=\"Neural Q-Network architecture example\">\n",
    "</div>"
   ]
  },
  {
   "cell_type": "markdown",
   "id": "3a9b5d22-f962-4658-a3ce-d3fad3fcf144",
   "metadata": {},
   "source": [
    "Neural networks are parameterized by a set of learnable weights and biases denoted as the learnable parameters $\\theta$. These weights allow the network to represent any function that is intended to be learned in a machine learning problem. The correct values of $\\theta$ are learned incrementally by computing a loss, that evaluates how well a neural network is performing, and then making small updates to $\\theta$ that will improve the loss. Overtime these values will converge on an optimized set of parameters that enable the neural network to make intelligent decisions related to the problem it was trained on. When using a parameterized model, like a neural network, the parameters $\\theta$ will be shown as an input to the action-value function to indicate which model is being used to compute the value: $q(s, a; \\theta)$.\n",
    "\n",
    "In RL, specifically Q-Learning, the loss is defined as:\n",
    "<div style=\"font-size:16px\">\n",
    "$$\\tag{9}\n",
    "\\ell(\\theta)=\\mathbb{E}_{(s,a,r,s') \\sim p(D)}\\left[\\left(r + \\gamma \\; \\underset{a'}{\\text{max}}\\:q(s', a'; \\theta^{-}) - q(s, a; \\theta)\\right)^2\\right].\n",
    "$$\n",
    "</div>"
   ]
  },
  {
   "cell_type": "markdown",
   "id": "979caaaa-1b4a-49cc-b005-cb8b29408e30",
   "metadata": {},
   "source": [
    "This loss can seem intimidating at first but it can be simply broken down and will begin to look like a standard [mean-squared-error](https://en.wikipedia.org/wiki/Mean_squared_error) which is common in any machine learning or regression problem.\n",
    "\n",
    "<a name=\"prioritized_replay\"></a>First, observe that the inputs to the action-value function in the loss function, $(s, a, r, s')$ are sample from a dataset $D$ distributed according to some probability of the samples within dataset $D$. We assume that we have a dataset of experiences, capturing previously seens states, the action that was performed at the state, the reward that was received and the state that followed. This tuple represents a single experience that we wish to learn from. As we engage with the environment we are building this dataset with real experiences that our model is having. The likelihood of this dataset, $p(D)$ helps to determine which experiences we should learn from. This could be a simple uniform distribution, i.e. $p(D) \\triangleq U(d)$, or it adapt to give a higher likelihood to experiences that the model is not as familiar with. The latter is called <i>Prioritized Experience Replay</i> [[1]](#1) and it uses the magnitude of the loss above to decide how familiar the model is with that experience. When the loss is larger for some sample it will be more likely to see that sample again. The $\\mathbb{E}_{(s,a,r,s') \\sim p(D)}$ component of the loss function is simply showing that while learning the experiences we are learning on are being sampled from that dataset.\n",
    "\n",
    "The next component to understand is $q(s, a; \\theta)$ which tells us what the model, parameterized by $\\theta$, thinks the action-value function for $s$ and $a$ should be. This is ultimately the value we hope our model will be able to produce accurately. It is used here as the prediction input to a mean-squared-error loss function.\n",
    "\n",
    "Finally, $r + \\gamma \\; \\underset{a'}{\\text{max}}\\:q(s', a'; \\theta^{-})$ acts as an approximation of the actual value we hope our model will learn to represent. Ultimately we hope that our model will learn the true cumulative reward that follows any state action pair - however it would be computationally inefficient if we were to simulate full episodes and train only on sequential experiences. It is far more important that we can learn from individual experiences which is why the cumulative return is approximated by the known reward given for an experience and the approximated return of the next state: $\\underset{a'}{\\text{max}}\\:q(s', a'; \\theta^{-})$."
   ]
  },
  {
   "cell_type": "markdown",
   "id": "e351be38-335f-48c8-ad6f-ac8b90ab7986",
   "metadata": {},
   "source": [
    "##### Target Networks"
   ]
  },
  {
   "cell_type": "markdown",
   "id": "bda22f7d-2486-4247-9512-dcad0b8c7a02",
   "metadata": {},
   "source": [
    "Notice that in the loss function above there are two sets of learnable parameters present: $\\theta$ and $\\theta^-$. This is an important feature of the Deep Q-Network (DQN) [[2]](#2) which helps to address an important problem that causes divergence while training. If $\\theta$ were used directly to compute both the label and prediction, as described above, it would be equivalent to trying to optimize on a moving target. It's as if the model is a dog chasing the its own tail: as it gets closer to its tail the tail pulls away. Interestingly Mnih et al [[2]](#2) showed that this circular dependency can be broken by simply creating a <i>target</i> network that lags slightly behind the learned model, denoted $\\theta^-$. An additional hyperparameter is added that controls how often the target network parameters $\\theta^-$ are updated towards the actual $\\theta$ values."
   ]
  },
  {
   "cell_type": "markdown",
   "id": "e392eaac-4a1c-4b1d-83d2-df93699f85f7",
   "metadata": {},
   "source": [
    "##### Double Q-Networks"
   ]
  },
  {
   "cell_type": "markdown",
   "id": "665c7d5d-b8e5-41fd-aad5-f2941d2b496c",
   "metadata": {},
   "source": [
    "An important discovery regarding DQN performance, presented by Van Hasselt et al [[3]](#3), is that the DQN is susceptable to overestimating the value of actions. This overestimation can lead to poor performance during training because it always selects the action with the highest estimated value when computing the loss. Overestimation can destabilize training and cause the learner to pursue policies that are not optimal in the context of the environment. One way to address this overestimation is regularize the estimating with another Q model that must learn to agree on which actions are best. It easy to see how Equation 7 can be rewritten to split the <i>max</i> operation into a call to $q$ and an <i>argmax</i> call:\n",
    "<div style=\"font-size:16px\">\n",
    "$$\\tag{10}\n",
    "q_\\pi(s, a)=\\mathbb{E}_\\pi\\left[r_t + \\gamma \\; q(s_{t+1}, \\underset{a}{arg\\:\\text{max}}\\:q(s_{t+1}, a; \\theta); \\theta^{-}) \\; \\middle| \\; s_t=s, a_t=a\\right].\n",
    "$$\n",
    "</div>"
   ]
  },
  {
   "cell_type": "markdown",
   "id": "ae7dd4bb-6cc8-4df8-89d1-580ff3a59c69",
   "metadata": {},
   "source": [
    "Note that the primary network, called the online network, is used to decide which action is best but the target network, $\\theta^{-}$, is used to estimate the value of the selected action. It has been proven that this discontinuation is powerful enough to help stabilize the learning process [[3]](#3). When put into the loss function it now looks like:\n",
    "<div style=\"font-size:16px\">\n",
    "$$\\tag{11}\n",
    "\\ell(\\theta)=\\mathbb{E}_{(s,a,r,s') \\sim p(D)}\\left[\\left(r + \\gamma \\; q(s', \\underset{a'}{arg\\:\\text{max}}\\:q(s', a'; \\theta); \\theta^{-}) - q(s, a; \\theta)\\right)^2\\right].\n",
    "$$\n",
    "</div>"
   ]
  },
  {
   "cell_type": "markdown",
   "id": "b01c1926-b2c1-4b21-8d0e-d69b6327dfea",
   "metadata": {},
   "source": [
    "##### Dueling Q-Networks"
   ]
  },
  {
   "cell_type": "markdown",
   "id": "fdef1b0e-6823-4cf6-a5e4-41aae48f134c",
   "metadata": {},
   "source": [
    "One final improvement to the vanilla DQN will be mentioned here: the dueling DQN [[4]](#4). In the RL literature the value of a state $v(s)$ is related to the action-value $q(s, a)$ through the <i>advantage</i>, $A(s, a)$ of the action $a$ in state $s$:\n",
    "<div style=\"font-size:16px\">\n",
    "$$\\tag{12}\n",
    "q(s, a)=v(s)+A(s, a).\n",
    "$$\n",
    "</div>\n",
    "In the same way that creating a Double DQN helps to eliminate internal interdependency to stabilize training, a network can be updated to independently predict both the value and advantage and then combine them to produce $q(s, a)$ [[4]](#4). An example of a Dueling DQN architecture is shown below:\n",
    "<div style=\"text-align:center;\">\n",
    "<img src=\"docs/deuling_dqn_architecture.png\" alt=\"Deuling DQN Architecture\">\n",
    "</div>"
   ]
  },
  {
   "cell_type": "markdown",
   "id": "9a725355-c4c8-4357-966a-596ef268c3d3",
   "metadata": {},
   "source": [
    "## Experimental Approach"
   ]
  },
  {
   "cell_type": "markdown",
   "id": "76dfe973-1abc-49c3-91dc-d2d64f10093b",
   "metadata": {},
   "source": [
    "In this project, a DQN [[2]](#2) with options to support Prioritized Replay [[1]](#1), Double DQN [[3]](#3) and Dueling DQN [[4]](#4) is implemented using only [PyTorch](https://pytorch.org/). The objective of this project is to train an agent that is capable of the winning the Banana Collection game by getting an average score of 13 or greater over 100 episodes. The way to achieve this goal is to implement the code correctly and find a set of hyperparameter values that enables good learning for this environment."
   ]
  },
  {
   "cell_type": "markdown",
   "id": "c2c3c09d-8820-49b4-8c33-5c8ef8f2df5c",
   "metadata": {},
   "source": [
    "The hyperparameters that may be tuned for this model are as follows:\n",
    "* <code>hidden_layers</code>: comma-separated list of integers describing the number of nodes in each layer (where the length of the list describes the number of layers). Defaults to <code>[256,]</code>.\n",
    "* <code>episodes</code>: The number of episodes to train over. Defaults to <code>10000</code>.\n",
    "* <code>batch_size</code>: The number of (s, a, r, s') experiences included in each mini-batch. Defaults to <code>128</code>.\n",
    "* <code>buffer_size</code>: The experience replay buffer is first-in-first-out structure. This parameter sets the maximum number of entires that can be in the buffer at the same time. Defaults to <code>10000</code>.\n",
    "* <code>update_rate</code>: Sets the rate, in steps, at which the online network parameters $\\theta$ are trained. Defaults to <code>10</code>.\n",
    "* <code>learning_rate</code>: Sets the step size to use during stochastic gradient descent updates. Defaults to <code>1e-3</code>.\n",
    "* <code>discount_rate</code>: Sets the value of $\\gamma$ as described [above](#gamma). Defaults to <code>1e-3</code>.\n",
    "* <code>epsilon</code>: Sets the starting value of $\\epsilon$ for an $\\epsilon$-greedy policy. Defaults to <code>1</code>.\n",
    "* <code>epsilon_decay</code>: Sets the exponential decay rate for $\\epsilon$. $\\epsilon_{i+1}=\\text{epsilon_decay}*\\epsilon_i$. Defaults to <code>0.99</code>.\n",
    "* <code>epsilon_decay_rate</code>: Sets the rate, in epsidoes, at which to apply the epsilon to decay. When set to 1 this creates a smooth, continuous curve for $\\epsilon$. When set to a larger integer it will create a stair-step function with each stair width being equal to this decay rate. Defaults to <code>1000</code>.\n",
    "* <code>min_epsilon</code>: Sets minimum allowable value of $\\epsilon$ while decaying. Once this minimum is hit it will stop decaying. Defaults to <code>1e-1</code>.\n",
    "* <code>tau</code>: Controls the step size used when updating the target network parameters $\\theta^{-}$ towards the online network $\\theta$. This step is performed at the update rate defined above. Defaults to <code>1e-3</code>.\n",
    "* <code>replay</code>: Determine the type of replay buffer to use. Options: \"uniform\" to sample $U(D)$; \"prioritized\" to sample with priority sampling as described [above](#prioritized_replay). Defaults to <code>uniform</code>.\n",
    "* <code>prioritized_replay_damp</code>: Sets the damping term $\\alpha$ when using prioritized replay as defined by Schaul et al [[1]](#1) where $0 \\leq \\alpha \\leq 1$. Defaults to <code>0.1</code>.\n",
    "* <code>e_constant</code>: Sets constant $e$ when using prioritized replay to ensure samples don't get starved out [[1]](#1). Defaults to <code>0.01</code>.\n",
    "* <code>prioritized_replay_beta_anneal_rate</code>: Sets the $\\beta$ annealing rate, in episodes, when using prioritized replay as defined by Schaul et al [[1]](#1). $\\beta$ starts at 1 and anneals towards zero at the rate defined over training. Defaults to <code>1</code> (i.e. every episode it decays toward zero).\n",
    "* <code>learning_start</code>: The required number of experiences in the buffer before learning will officially start. Defaults to <code>1000</code>.\n",
    "* <code>double_dqn</code>: <code>True</code> to use a [Double DQN](#Double-Q-Networks) approach; <code>False</code> otherwise. Defaults to <code>False</code>.\n",
    "* <code>dueling_dqn</code>: <code>True</code> to use a [Dueling DQN](#Dueling-Q-Networks) approach; <code>False</code> otherwise. Defaults to <code>False</code>."
   ]
  },
  {
   "cell_type": "markdown",
   "id": "d70533fc-8567-498f-8ac8-81526abf3093",
   "metadata": {},
   "source": [
    "In this project three different experiments are performed:\n",
    "1) Train a network with some good default values (according to open source libraries like [RLLib](https://docs.ray.io/en/master/rllib.html))\n",
    "1) Perform a grid search over the most important set of hyperparameters\n",
    "1) Perform a training run with [RLLib](https://docs.ray.io/en/master/rllib.html)) to act as a reference benchmark"
   ]
  },
  {
   "cell_type": "markdown",
   "id": "8a2acbf8-dcfe-42fd-a290-e5a94cdf235f",
   "metadata": {},
   "source": [
    "The results of these three experiments are presented below."
   ]
  },
  {
   "cell_type": "markdown",
   "id": "a7854d18-29fc-4d47-8a2e-e9c812c1a9f3",
   "metadata": {},
   "source": [
    "## Model Results"
   ]
  },
  {
   "cell_type": "markdown",
   "id": "6abba867-f8ce-4db6-bb8a-e2a7c527e40a",
   "metadata": {},
   "source": [
    "### Experiment 1 - Good Default Parameters"
   ]
  },
  {
   "cell_type": "markdown",
   "id": "9a10fb63-607d-4f17-820c-bf86b780adb5",
   "metadata": {},
   "source": [
    "In this experiment a model is trained with the parameters listed below. Parameters that are not included in the list fallback to the default values listed above. With the default hidden layers set, this is a simple 3-layer feed forward network with the hidden layer having 256 nodes. This architecture is used in all experiments shown below."
   ]
  },
  {
   "cell_type": "code",
   "execution_count": 7,
   "id": "66edf2b1-f238-4985-a840-4f1d004bf141",
   "metadata": {},
   "outputs": [],
   "source": [
    "params = {\n",
    "    \"episodes\": 5000,\n",
    "    \"batch_size\": 64,\n",
    "    \"learning_rate\": 5e-4,\n",
    "    \"discount_rate\": 0.99,\n",
    "    \"update_rate\": 4,\n",
    "    \"epsilon_decay\": 0.99,\n",
    "    \"epsilon_decay_rate\": 1,\n",
    "    \"min_epsilon\": 0.01,\n",
    "    \"replay\": \"prioritized\",\n",
    "    \"prioritized_replay_damp\": 0.6,\n",
    "    \"e_constant\": 1e-6,\n",
    "    \"prioritized_replay_beta_anneal_rate\": 100,\n",
    "    \"learning_start\": 64,\n",
    "    \"double_dqn\": True,\n",
    "    \"deuling_dqn\": True\n",
    "}"
   ]
  },
  {
   "cell_type": "markdown",
   "id": "7c64994b-f848-4721-a1c4-b04b68921e29",
   "metadata": {},
   "source": [
    "This parameter set is identified as model <i>a</i>. The cumalitive reward of each episode over training and the epsilon values at each episode are shown below:\n",
    "\n",
    "<div style=\"text-align:center;\">\n",
    "<img src=\"docs/exp_1/scores.png\">\n",
    "<img src=\"docs/exp_1/epsilons.png\">\n",
    "</div>"
   ]
  },
  {
   "cell_type": "markdown",
   "id": "1e98c51e-313f-4ffc-aba3-ed3359d2ff29",
   "metadata": {},
   "source": [
    "It is evident looking at this chart that the learning climbs steadily to an average of about 13 points before it plateaus and ceases to make any improvements. It would appear that this stagnation correlates with the epsilon value fully decaying around the same training episode - somewhere between 500 and 1000. Let's explore this correlation further with another training attempt. We'll use all the same parameter values above, but this time we'll set the <code>epsilon_decay</code> to $0.999$. The model trained with this new epsilon decay rate is labeled model <i>b</i>. The cumulative reward and epsilon values at each episode are shown below:\n",
    "\n",
    "<div style=\"text-align:center;\">\n",
    "<img src=\"docs/exp_1/scores_b.png\">\n",
    "<img src=\"docs/exp_1/epsilons_b.png\">\n",
    "</div>"
   ]
  },
  {
   "cell_type": "markdown",
   "id": "9f18295c-e8d9-47cd-8443-9564e32b7223",
   "metadata": {},
   "source": [
    "The real test is now using an optimal policy based on the action-value function represented by these models on the banana environment. The evaluation will consist of running 100 concesutive episodes and recording the average score. The goal is to get an average of 13 points or higher. First, the scores of 100 runs with model <i>a</i>:\n",
    "\n",
    "<div style=\"text-align:center;\">\n",
    "<img src=\"docs/exp_1/eval_a.png\">\n",
    "</div>\n",
    "\n",
    "The average score for model <i>a</i> over these 100 test episodes was <b>9.54</b>. The model came close and has clearly learned something, but it has fallen short of the goal of 13. While analyzing the performance of this trained model it became evident that it was confidently able to pick up yellow bananas when they were grouped together (leading to the higher scoring episodes), however, when there were a lot of blue bananas or few yellow bananas it became indecisive and would simply move side to side until the episode ended. It would appear this model was disproportionately afraid of picking up a blue banana even if it meant getting more yellow bananas farther along in the episode.\n",
    "\n",
    "The scores over 100 evaluation episodes with model <i>b</i> are shown below:\n",
    "\n",
    "<div style=\"text-align:center;\">\n",
    "<img src=\"docs/exp_1/eval_b.png\">\n",
    "</div>\n",
    "\n",
    "The average score for model <i>b</i> is <b>15.37</b>. With the slower epsilon decay it has been shown that a model can learn a winning policy to the banana collection game. If readers are interested in trying out this policy for themselves they may check out the repository, follow the setup documented in [README.md](https://github.com/joeworsh/drl_agent_navigation/blob/main/README.md) and run the notebook [DQN Evaluate 2](https://github.com/joeworsh/drl_agent_navigation/blob/main/DQN%20Evaluate%202.ipynb)."
   ]
  },
  {
   "cell_type": "markdown",
   "id": "5854f49c-ea23-4e93-973b-945cb2301516",
   "metadata": {},
   "source": [
    "### Experiment 2 - Grid Search over Parameters"
   ]
  },
  {
   "cell_type": "markdown",
   "id": "cbf3b0f8-88a7-4238-a628-0b6e4d2cd66e",
   "metadata": {},
   "source": [
    "Given the vast number of parameter configurations that exist for this problem space it would be impossible to write out every candidate configuration and test it manually. There are, however, many interesting parameter search techniques that can automate this process. For this project a simple [grid search](https://en.wikipedia.org/wiki/Hyperparameter_optimization#Grid_search) was used to try all the different interesting combinations. In particular the grid search was concerned with these parameters and the associated values:\n",
    "* <code>buffer_size</code>: [10000, 50000]\n",
    "* <code>learning_rate</code>: [5e-4, 1e-3, 1e-2]\n",
    "* <code>discount_rate</code>: [0.9, 0.99, 0.999]\n",
    "* <code>update_rate</code>: [4, 10]\n",
    "* <code>epsilon_decay</code>: [0.9, 0.995, 0.999]\n",
    "* <code>min_epsilon</code>: [0.01, 0.1]\n",
    "* <code>replay</code>: [uniform, prioritized]\n",
    "* <code>double_dqn</code>: [False, True]\n",
    "* <code>deuling_dqn</code>: [False, True]\n",
    "\n",
    "Each test in the grid search trained on 1000 episodes. This grid search was a little too ambitious as it in total was requested to evaluate 1,728 configurations with each configuration requiring about an hour to train. Regardless, this grid search was able to explore many of the varied configurations before being terminated. The average scores over 100 evaluation episodes of that grid search are below:\n",
    "\n",
    "<div style=\"text-align:center;\">\n",
    "<img src=\"docs/exp_2/grid_search.png\">\n",
    "</div>"
   ]
  },
  {
   "cell_type": "markdown",
   "id": "b2c3a64d-e759-497b-87df-e4401a388a97",
   "metadata": {},
   "source": [
    "Readers can see that one experiment in this grid search that was able to come very close to the desired score of 13 in only 1000 trained episodes: <code>exp_7</code>. The hyperparameters for <code>exp_7</code> are shown below:\n",
    "\n",
    "Params:\n",
    "* <code>episodes</code>: 1000\n",
    "* <code>batch_size</code>: 64\n",
    "* <code>buffer_size</code>: 10000\n",
    "* <code>learning_rate</code>: 0.0005\n",
    "* <code>discount_rate</code>: 0.9\n",
    "* <code>update_rate</code>: 4\n",
    "* <code>epsilon_decay</code>: 0.9\n",
    "* <code>epsilon_decay_rate</code>: 1\n",
    "* <code>min_epsilon</code>: 0.01\n",
    "* <code>replay</code>: prioritized\n",
    "* <code>prioritized_replay_damp</code>: 0.6\n",
    "* <code>e_constant</code>: 1e-06\n",
    "* <code>prioritized_replay_beta_anneal_rate</code>: 100\n",
    "* <code>learning_start</code>: 64\n",
    "* <code>double_dqn</code>: True\n",
    "* <code>deuling_dqn</code>: True\n",
    "\n",
    "This configuration achieved an average score of <b>12.7</b> over 100 episodes. It came very close yet still fell slightly short.\n",
    "\n",
    "Other results from the grid search can be seen in the [Analyze Results](https://github.com/joeworsh/drl_agent_navigation/blob/main/Analyze%20Results.ipynb) notebook."
   ]
  },
  {
   "cell_type": "markdown",
   "id": "cb398435-e61b-44e5-a2d8-1ab78e28ded8",
   "metadata": {},
   "source": [
    "### Experiment 3 - RLLib Benchmark"
   ]
  },
  {
   "cell_type": "markdown",
   "id": "c1c2609f-ec58-42a6-8180-5f825878150a",
   "metadata": {},
   "source": [
    "Finally, as a benchmark test, an experiment is performed using [RLLib](https://docs.ray.io/en/master/rllib.html) which is an industry standard open source library for DRL. All of the default parameters are used with their DQN implementation. The averaged score over training is shown below:\n",
    "\n",
    "<div style=\"text-align:center;\">\n",
    "<img src=\"docs/exp_3/scores.png\">\n",
    "</div>\n",
    "\n",
    "These scores are averaged but appear to follow the same trend as the models in experiment 1. The default parameters for the DQN model can be seen [here](https://docs.ray.io/en/master/rllib-algorithms.html#dqn).\n",
    "\n",
    "This experiment builds confidence in the implementation presented and demonstrates how to use RLLib with a custom environment. The implementation can be seen in the [RLLib Test](https://github.com/joeworsh/drl_agent_navigation/blob/main/RLLib%20Test.ipynb) notebook."
   ]
  },
  {
   "cell_type": "markdown",
   "id": "2d4a6d80-aa55-4121-8988-5afa223264e0",
   "metadata": {},
   "source": [
    "## Ideas for Future Work"
   ]
  },
  {
   "cell_type": "markdown",
   "id": "afc09b9b-9647-4f94-8242-6d88005a556e",
   "metadata": {},
   "source": [
    "A DQN model exists that pulls together all the discovered improvements, including the 3 listed above, called Rainbow DQN [[5]](#5). When using DQN approaches in academia or in industry the standard is to use Rainbow DQN. RLLib also contains a trustworthy implementation that can be used open-source. Another interesting avenue of research would be to compare DQN performance on the Banana Collection game against policy-gradient methods which learn policies via actor-critic paradigms. In practice, policy-gradient methods, such as Soft Actor Critic [[6]](#6) and Proximal Policy Optimization [[7]](#7), out-perform or perform competitively against DQN approaches. Finally, these experiments consumed environment inputs as real-valued state vectors, however, it would be advantageuous to evaluate how well DQN can perform when it takes in image data as input. This would require a different neural network architecture with a CNN input block. Image inputs with CNNs are presented by Schaul et al [[1]](#1)."
   ]
  },
  {
   "cell_type": "markdown",
   "id": "beb95b8e-3c10-404e-b320-9e565a555768",
   "metadata": {},
   "source": [
    "## Conclusion"
   ]
  },
  {
   "cell_type": "markdown",
   "id": "23539719-638e-4836-98f3-63cf61e35cfd",
   "metadata": {},
   "source": [
    "This report presents an overview of the Deep Q-Network and the Reinforcement Learning theory behind it. The repository provides an implementation of the DQN using PyTorch including the concepts of prioritized experience replay, double DQN and dueling DQN. Results are shown training this model on the Unity banana collection environment. With some fairly standard hyperparameter values a model is able to achieve an average score of 15.37 surpassing the goal of 13 in 5000 training episodes. This winning model used both Double DQN and Dueling DQN approaches. Additionally, a bechmark test is included using RLLib to determine the validity of the implementation presented."
   ]
  },
  {
   "cell_type": "markdown",
   "id": "02685269-e7a3-404b-b880-51c18e8577d6",
   "metadata": {},
   "source": [
    "# References"
   ]
  },
  {
   "cell_type": "markdown",
   "id": "358b7fba-f5bb-46f4-90d1-2fa61f9050dd",
   "metadata": {},
   "source": [
    "<a name=\"1\">[1]</a> Schaul, Tom, et al. \"Prioritized experience replay.\" arXiv preprint arXiv:1511.05952 (2015).\n",
    "\n",
    "<a name=\"2\">[2]</a> Mnih, Volodymyr, et al. \"Human-level control through deep reinforcement learning.\" nature 518.7540 (2015): 529-533.\n",
    "\n",
    "<a name=\"3\">[3]</a> Van Hasselt, Hado, Arthur Guez, and David Silver. \"Deep reinforcement learning with double q-learning.\" Proceedings of the AAAI Conference on Artificial Intelligence. Vol. 30. No. 1. 2016.\n",
    "\n",
    "<a name=\"4\">[4]</a> Wang, Ziyu, et al. \"Dueling network architectures for deep reinforcement learning.\" International conference on machine learning. PMLR, 2016.\n",
    "\n",
    "<a name=\"5\">[5]</a> Hessel, Matteo, et al. \"Rainbow: Combining improvements in deep reinforcement learning.\" Proceedings of the AAAI Conference on Artificial Intelligence. Vol. 32. No. 1. 2018.\n",
    "\n",
    "<a name=\"6\">[6]</a> Haarnoja, Tuomas, et al. \"Soft actor-critic: Off-policy maximum entropy deep reinforcement learning with a stochastic actor.\" International Conference on Machine Learning. PMLR, 2018.\n",
    "\n",
    "<a name=\"7\">[7]</a> Schulman, John, et al. \"Proximal policy optimization algorithms.\" arXiv preprint arXiv:1707.06347 (2017)."
   ]
  },
  {
   "cell_type": "code",
   "execution_count": null,
   "id": "123f2ffe-4347-414b-ae51-f427c509e632",
   "metadata": {},
   "outputs": [],
   "source": []
  }
 ],
 "metadata": {
  "kernelspec": {
   "display_name": "Python 3",
   "language": "python",
   "name": "python3"
  },
  "language_info": {
   "codemirror_mode": {
    "name": "ipython",
    "version": 3
   },
   "file_extension": ".py",
   "mimetype": "text/x-python",
   "name": "python",
   "nbconvert_exporter": "python",
   "pygments_lexer": "ipython3",
   "version": "3.8.10"
  }
 },
 "nbformat": 4,
 "nbformat_minor": 5
}

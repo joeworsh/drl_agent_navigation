{
 "cells": [
  {
   "cell_type": "markdown",
   "id": "cfd7b90f",
   "metadata": {},
   "source": [
    "# Prioritized Replay Deep Q Network"
   ]
  },
  {
   "cell_type": "code",
   "execution_count": 1,
   "id": "1019f21d",
   "metadata": {},
   "outputs": [],
   "source": [
    "# autoreload code changes\n",
    "%load_ext autoreload\n",
    "%autoreload 2"
   ]
  },
  {
   "cell_type": "code",
   "execution_count": 2,
   "id": "12cd2a07-d40a-4431-9f8f-37cb45b201aa",
   "metadata": {},
   "outputs": [],
   "source": [
    "import itertools\n",
    "import json\n",
    "import os\n",
    "import shutil"
   ]
  },
  {
   "cell_type": "code",
   "execution_count": 3,
   "id": "ee515b51",
   "metadata": {},
   "outputs": [],
   "source": [
    "from matplotlib import pyplot as plt"
   ]
  },
  {
   "cell_type": "code",
   "execution_count": 4,
   "id": "2f512db9",
   "metadata": {},
   "outputs": [],
   "source": [
    "from banana_env import BananaEnv\n",
    "from joe_agents.dqn_agent import DqnAgent"
   ]
  },
  {
   "cell_type": "markdown",
   "id": "9e8de81f-6577-45b4-8ec9-47ced0e67bd6",
   "metadata": {},
   "source": [
    "## Hyperparameter Grid Search"
   ]
  },
  {
   "cell_type": "code",
   "execution_count": 5,
   "id": "5d8603af-4ad5-49a9-9265-75204af7aab7",
   "metadata": {},
   "outputs": [],
   "source": [
    "class Grid():\n",
    "    def __init__(self, *args):\n",
    "        self._values = args\n",
    "        self._idx = 0\n",
    "    \n",
    "    def __iter__(self):\n",
    "        self._idx = 0\n",
    "        return self\n",
    "    \n",
    "    def __next__(self):\n",
    "        if self._idx < len(self._values):\n",
    "            n = self._values[self._idx]\n",
    "            self._idx += 1\n",
    "            return n\n",
    "        raise StopIteration"
   ]
  },
  {
   "cell_type": "code",
   "execution_count": 6,
   "id": "b77869e9-4b80-4f98-8bac-edbad0a39815",
   "metadata": {},
   "outputs": [],
   "source": [
    "class ExperimentIterator():\n",
    "    def __init__(self, params):\n",
    "        self._params = params\n",
    "        self._current = None\n",
    "        self._grids = []\n",
    "        self._product_iter = None\n",
    "        \n",
    "    def __iter__(self):\n",
    "        self._current = dict(self._params)\n",
    "        self._grids = [(k, v) for (k, v) in self._params.items() if isinstance(v, Grid)]\n",
    "        self._product_iter = itertools.product(*[i[1] for i in self._grids])\n",
    "        return self\n",
    "    \n",
    "    def __next__(self):\n",
    "        search = self._product_iter.__next__()\n",
    "        for space, value in zip(self._grids, search):\n",
    "            self._current[space[0]] = value\n",
    "        return self._current"
   ]
  },
  {
   "cell_type": "code",
   "execution_count": 7,
   "id": "a2eb717f-56db-4aa0-9e46-0cbd3c586b75",
   "metadata": {},
   "outputs": [],
   "source": [
    "search_params = {\n",
    "    \"episodes\": 1000,\n",
    "    \"batch_size\": 64,\n",
    "    \"buffer_size\": Grid(10000, 50000),\n",
    "    \"learning_rate\": Grid(5e-4, 1e-3, 1e-2),\n",
    "    \"discount_rate\": Grid(0.9, 0.99, 0.999),\n",
    "    \"update_rate\": Grid(4, 10),\n",
    "    \"epsilon_decay\": Grid(0.9, 0.995, 0.999),\n",
    "    \"epsilon_decay_rate\": 1,\n",
    "    \"min_epsilon\": Grid(0.01, 0.1),\n",
    "    \"replay\": Grid(\"uniform\", \"prioritized\"),\n",
    "    \"prioritized_replay_damp\": 0.6,\n",
    "    \"e_constant\": 1e-6,\n",
    "    \"prioritized_replay_beta_anneal_rate\": 100,\n",
    "    \"learning_start\": 64,\n",
    "    \"double_dqn\": Grid(False, True),\n",
    "    \"deuling_dqn\": Grid(False, True)\n",
    "}\n",
    "# note: RLLib doesn't anneal beta it's constant at 0.4"
   ]
  },
  {
   "cell_type": "code",
   "execution_count": 8,
   "id": "5ad3154b-c84c-461a-9302-f269ed7cb1a5",
   "metadata": {},
   "outputs": [],
   "source": [
    "exp_iter = ExperimentIterator(search_params)"
   ]
  },
  {
   "cell_type": "markdown",
   "id": "bbf44584-469c-4e0f-a9a1-11ec098140ab",
   "metadata": {},
   "source": [
    "## Create Environment to Train In"
   ]
  },
  {
   "cell_type": "code",
   "execution_count": 9,
   "id": "862eb5c0",
   "metadata": {
    "scrolled": true
   },
   "outputs": [
    {
     "name": "stderr",
     "output_type": "stream",
     "text": [
      "INFO:unityagents:\n",
      "'Academy' started successfully!\n",
      "Unity Academy name: Academy\n",
      "        Number of Brains: 1\n",
      "        Number of External Brains : 1\n",
      "        Lesson number : 0\n",
      "        Reset Parameters :\n",
      "\t\t\n",
      "Unity brain name: BananaBrain\n",
      "        Number of Visual Observations (per agent): 0\n",
      "        Vector Observation space type: continuous\n",
      "        Vector Observation space size (per agent): 37\n",
      "        Number of stacked Vector Observation: 1\n",
      "        Vector Action space type: discrete\n",
      "        Vector Action space size (per agent): 4\n",
      "        Vector Action descriptions: , , , \n"
     ]
    }
   ],
   "source": [
    "# create the environment\n",
    "exe = \"../../deep-reinforcement-learning/p1_navigation/Banana_Windows_x86_64/Banana.exe\"\n",
    "evn_config = {\"executable\": exe, \"train_mode\": True}\n",
    "env = BananaEnv(evn_config)"
   ]
  },
  {
   "cell_type": "markdown",
   "id": "beb7e4d0",
   "metadata": {},
   "source": [
    "## Run all of the Experiments"
   ]
  },
  {
   "cell_type": "code",
   "execution_count": 10,
   "id": "26ec7081-b931-43eb-8203-d7fecafe19f7",
   "metadata": {},
   "outputs": [],
   "source": [
    "exp_folder = \"experiments\"\n",
    "if os.path.exists(exp_folder):\n",
    "    shutil.rmtree(exp_folder)\n",
    "os.mkdir(exp_folder)"
   ]
  },
  {
   "cell_type": "code",
   "execution_count": 11,
   "id": "5ea57715",
   "metadata": {},
   "outputs": [
    {
     "name": "stderr",
     "output_type": "stream",
     "text": [
      "100%|███████████████████████████████████████████████████████████████████████████████████████████| 1000/1000 [30:52<00:00,  1.85s/it]\n",
      "100%|███████████████████████████████████████████████████████████████████████████████████████████| 1000/1000 [30:43<00:00,  1.84s/it]\n",
      "100%|███████████████████████████████████████████████████████████████████████████████████████████| 1000/1000 [29:43<00:00,  1.78s/it]\n",
      "100%|███████████████████████████████████████████████████████████████████████████████████████████| 1000/1000 [30:39<00:00,  1.84s/it]\n",
      "100%|███████████████████████████████████████████████████████████████████████████████████████████| 1000/1000 [53:20<00:00,  3.20s/it]\n",
      "100%|███████████████████████████████████████████████████████████████████████████████████████████| 1000/1000 [55:45<00:00,  3.35s/it]\n",
      "100%|███████████████████████████████████████████████████████████████████████████████████████████| 1000/1000 [53:39<00:00,  3.22s/it]\n",
      "100%|███████████████████████████████████████████████████████████████████████████████████████████| 1000/1000 [55:27<00:00,  3.33s/it]\n",
      "100%|███████████████████████████████████████████████████████████████████████████████████████████| 1000/1000 [29:42<00:00,  1.78s/it]\n",
      "100%|███████████████████████████████████████████████████████████████████████████████████████████| 1000/1000 [30:47<00:00,  1.85s/it]\n",
      "100%|███████████████████████████████████████████████████████████████████████████████████████████| 1000/1000 [29:35<00:00,  1.78s/it]\n",
      "100%|███████████████████████████████████████████████████████████████████████████████████████████| 1000/1000 [30:47<00:00,  1.85s/it]\n",
      "100%|███████████████████████████████████████████████████████████████████████████████████████████| 1000/1000 [53:09<00:00,  3.19s/it]\n",
      "100%|███████████████████████████████████████████████████████████████████████████████████████████| 1000/1000 [55:28<00:00,  3.33s/it]\n",
      "100%|███████████████████████████████████████████████████████████████████████████████████████████| 1000/1000 [55:04<00:00,  3.30s/it]\n",
      "100%|███████████████████████████████████████████████████████████████████████████████████████████| 1000/1000 [56:27<00:00,  3.39s/it]\n",
      "100%|███████████████████████████████████████████████████████████████████████████████████████████| 1000/1000 [29:52<00:00,  1.79s/it]\n",
      "100%|███████████████████████████████████████████████████████████████████████████████████████████| 1000/1000 [30:51<00:00,  1.85s/it]\n",
      "100%|███████████████████████████████████████████████████████████████████████████████████████████| 1000/1000 [29:42<00:00,  1.78s/it]\n",
      "100%|███████████████████████████████████████████████████████████████████████████████████████████| 1000/1000 [30:48<00:00,  1.85s/it]\n",
      "100%|███████████████████████████████████████████████████████████████████████████████████████████| 1000/1000 [53:38<00:00,  3.22s/it]\n",
      "100%|███████████████████████████████████████████████████████████████████████████████████████████| 1000/1000 [55:53<00:00,  3.35s/it]\n",
      "100%|███████████████████████████████████████████████████████████████████████████████████████████| 1000/1000 [55:08<00:00,  3.31s/it]\n",
      "100%|███████████████████████████████████████████████████████████████████████████████████████████| 1000/1000 [56:40<00:00,  3.40s/it]\n",
      "100%|███████████████████████████████████████████████████████████████████████████████████████████| 1000/1000 [30:17<00:00,  1.82s/it]\n",
      "100%|███████████████████████████████████████████████████████████████████████████████████████████| 1000/1000 [31:18<00:00,  1.88s/it]\n",
      "100%|███████████████████████████████████████████████████████████████████████████████████████████| 1000/1000 [30:05<00:00,  1.81s/it]\n",
      "100%|███████████████████████████████████████████████████████████████████████████████████████████| 1000/1000 [31:17<00:00,  1.88s/it]\n",
      "100%|███████████████████████████████████████████████████████████████████████████████████████████| 1000/1000 [54:36<00:00,  3.28s/it]\n",
      "100%|███████████████████████████████████████████████████████████████████████████████████████████| 1000/1000 [57:19<00:00,  3.44s/it]\n",
      "100%|███████████████████████████████████████████████████████████████████████████████████████████| 1000/1000 [55:30<00:00,  3.33s/it]\n",
      "100%|███████████████████████████████████████████████████████████████████████████████████████████| 1000/1000 [56:57<00:00,  3.42s/it]\n",
      "100%|███████████████████████████████████████████████████████████████████████████████████████████| 1000/1000 [29:21<00:00,  1.76s/it]\n",
      "100%|███████████████████████████████████████████████████████████████████████████████████████████| 1000/1000 [30:07<00:00,  1.81s/it]\n",
      "100%|███████████████████████████████████████████████████████████████████████████████████████████| 1000/1000 [29:29<00:00,  1.77s/it]\n",
      "100%|███████████████████████████████████████████████████████████████████████████████████████████| 1000/1000 [30:21<00:00,  1.82s/it]\n",
      "100%|███████████████████████████████████████████████████████████████████████████████████████████| 1000/1000 [54:34<00:00,  3.27s/it]\n",
      "100%|███████████████████████████████████████████████████████████████████████████████████████████| 1000/1000 [55:52<00:00,  3.35s/it]\n",
      "100%|███████████████████████████████████████████████████████████████████████████████████████████| 1000/1000 [54:34<00:00,  3.27s/it]\n",
      "100%|███████████████████████████████████████████████████████████████████████████████████████████| 1000/1000 [55:55<00:00,  3.36s/it]\n",
      "100%|███████████████████████████████████████████████████████████████████████████████████████████| 1000/1000 [29:33<00:00,  1.77s/it]\n",
      "100%|███████████████████████████████████████████████████████████████████████████████████████████| 1000/1000 [30:17<00:00,  1.82s/it]\n",
      "100%|███████████████████████████████████████████████████████████████████████████████████████████| 1000/1000 [29:57<00:00,  1.80s/it]\n",
      "100%|███████████████████████████████████████████████████████████████████████████████████████████| 1000/1000 [31:18<00:00,  1.88s/it]\n",
      "100%|███████████████████████████████████████████████████████████████████████████████████████████| 1000/1000 [55:21<00:00,  3.32s/it]\n",
      "100%|███████████████████████████████████████████████████████████████████████████████████████████| 1000/1000 [56:44<00:00,  3.40s/it]\n",
      "100%|███████████████████████████████████████████████████████████████████████████████████████████| 1000/1000 [56:05<00:00,  3.37s/it]\n",
      "100%|███████████████████████████████████████████████████████████████████████████████████████████| 1000/1000 [57:53<00:00,  3.47s/it]\n",
      "100%|███████████████████████████████████████████████████████████████████████████████████████████| 1000/1000 [29:05<00:00,  1.75s/it]\n",
      "100%|███████████████████████████████████████████████████████████████████████████████████████████| 1000/1000 [29:51<00:00,  1.79s/it]\n",
      "100%|███████████████████████████████████████████████████████████████████████████████████████████| 1000/1000 [29:04<00:00,  1.74s/it]\n",
      "100%|███████████████████████████████████████████████████████████████████████████████████████████| 1000/1000 [29:40<00:00,  1.78s/it]\n",
      "100%|███████████████████████████████████████████████████████████████████████████████████████████| 1000/1000 [40:24<00:00,  2.42s/it]\n",
      "100%|███████████████████████████████████████████████████████████████████████████████████████████| 1000/1000 [41:30<00:00,  2.49s/it]\n",
      "100%|███████████████████████████████████████████████████████████████████████████████████████████| 1000/1000 [40:28<00:00,  2.43s/it]\n",
      "100%|███████████████████████████████████████████████████████████████████████████████████████████| 1000/1000 [41:45<00:00,  2.51s/it]\n",
      "100%|███████████████████████████████████████████████████████████████████████████████████████████| 1000/1000 [28:48<00:00,  1.73s/it]\n",
      "100%|███████████████████████████████████████████████████████████████████████████████████████████| 1000/1000 [29:23<00:00,  1.76s/it]\n",
      "100%|███████████████████████████████████████████████████████████████████████████████████████████| 1000/1000 [28:50<00:00,  1.73s/it]\n",
      "100%|███████████████████████████████████████████████████████████████████████████████████████████| 1000/1000 [29:28<00:00,  1.77s/it]\n",
      "100%|███████████████████████████████████████████████████████████████████████████████████████████| 1000/1000 [39:57<00:00,  2.40s/it]\n",
      "100%|███████████████████████████████████████████████████████████████████████████████████████████| 1000/1000 [42:15<00:00,  2.54s/it]\n",
      "100%|███████████████████████████████████████████████████████████████████████████████████████████| 1000/1000 [40:28<00:00,  2.43s/it]\n",
      "100%|███████████████████████████████████████████████████████████████████████████████████████████| 1000/1000 [41:57<00:00,  2.52s/it]\n",
      "100%|███████████████████████████████████████████████████████████████████████████████████████████| 1000/1000 [29:07<00:00,  1.75s/it]\n",
      "100%|███████████████████████████████████████████████████████████████████████████████████████████| 1000/1000 [29:16<00:00,  1.76s/it]\n",
      "100%|███████████████████████████████████████████████████████████████████████████████████████████| 1000/1000 [29:55<00:00,  1.80s/it]\n",
      "100%|███████████████████████████████████████████████████████████████████████████████████████████| 1000/1000 [29:26<00:00,  1.77s/it]\n",
      "100%|███████████████████████████████████████████████████████████████████████████████████████████| 1000/1000 [40:31<00:00,  2.43s/it]\n",
      "100%|███████████████████████████████████████████████████████████████████████████████████████████| 1000/1000 [41:38<00:00,  2.50s/it]\n",
      "100%|███████████████████████████████████████████████████████████████████████████████████████████| 1000/1000 [44:45<00:00,  2.69s/it]\n",
      "  0%|                                                                                                      | 0/1000 [00:01<?, ?it/s]\n"
     ]
    },
    {
     "ename": "KeyboardInterrupt",
     "evalue": "",
     "output_type": "error",
     "traceback": [
      "\u001b[1;31m---------------------------------------------------------------------------\u001b[0m",
      "\u001b[1;31mKeyboardInterrupt\u001b[0m                         Traceback (most recent call last)",
      "\u001b[1;32m<ipython-input-11-44097b07050e>\u001b[0m in \u001b[0;36m<module>\u001b[1;34m\u001b[0m\n\u001b[0;32m      3\u001b[0m     \u001b[0mos\u001b[0m\u001b[1;33m.\u001b[0m\u001b[0mmkdir\u001b[0m\u001b[1;33m(\u001b[0m\u001b[0mwkspc_folder\u001b[0m\u001b[1;33m)\u001b[0m\u001b[1;33m\u001b[0m\u001b[1;33m\u001b[0m\u001b[0m\n\u001b[0;32m      4\u001b[0m     \u001b[0magent\u001b[0m \u001b[1;33m=\u001b[0m \u001b[0mDqnAgent\u001b[0m\u001b[1;33m(\u001b[0m\u001b[1;36m37\u001b[0m\u001b[1;33m,\u001b[0m \u001b[1;36m4\u001b[0m\u001b[1;33m,\u001b[0m \u001b[0mparams\u001b[0m\u001b[1;33m)\u001b[0m\u001b[1;33m\u001b[0m\u001b[1;33m\u001b[0m\u001b[0m\n\u001b[1;32m----> 5\u001b[1;33m     \u001b[0mscores\u001b[0m\u001b[1;33m,\u001b[0m \u001b[0mepsilons\u001b[0m\u001b[1;33m,\u001b[0m \u001b[0mbuffer_stats\u001b[0m \u001b[1;33m=\u001b[0m \u001b[0magent\u001b[0m\u001b[1;33m.\u001b[0m\u001b[0mtrain\u001b[0m\u001b[1;33m(\u001b[0m\u001b[0menv\u001b[0m\u001b[1;33m)\u001b[0m\u001b[1;33m\u001b[0m\u001b[1;33m\u001b[0m\u001b[0m\n\u001b[0m\u001b[0;32m      6\u001b[0m     \u001b[0magent\u001b[0m\u001b[1;33m.\u001b[0m\u001b[0msave\u001b[0m\u001b[1;33m(\u001b[0m\u001b[0mos\u001b[0m\u001b[1;33m.\u001b[0m\u001b[0mpath\u001b[0m\u001b[1;33m.\u001b[0m\u001b[0mjoin\u001b[0m\u001b[1;33m(\u001b[0m\u001b[0mwkspc_folder\u001b[0m\u001b[1;33m,\u001b[0m \u001b[1;34m\"checkpoint.pth\"\u001b[0m\u001b[1;33m)\u001b[0m\u001b[1;33m)\u001b[0m\u001b[1;33m\u001b[0m\u001b[1;33m\u001b[0m\u001b[0m\n\u001b[0;32m      7\u001b[0m     \u001b[0mparam_file\u001b[0m \u001b[1;33m=\u001b[0m \u001b[0mos\u001b[0m\u001b[1;33m.\u001b[0m\u001b[0mpath\u001b[0m\u001b[1;33m.\u001b[0m\u001b[0mjoin\u001b[0m\u001b[1;33m(\u001b[0m\u001b[0mwkspc_folder\u001b[0m\u001b[1;33m,\u001b[0m \u001b[1;34m\"params.json\"\u001b[0m\u001b[1;33m)\u001b[0m\u001b[1;33m\u001b[0m\u001b[1;33m\u001b[0m\u001b[0m\n",
      "\u001b[1;32m~\\workspaces\\udacity\\projects\\drl_agent_navigation\\joe_agents\\dqn_agent.py\u001b[0m in \u001b[0;36mtrain\u001b[1;34m(self, env)\u001b[0m\n\u001b[0;32m    190\u001b[0m \u001b[1;33m\u001b[0m\u001b[0m\n\u001b[0;32m    191\u001b[0m                 \u001b[1;31m# log this experience to the buffer\u001b[0m\u001b[1;33m\u001b[0m\u001b[1;33m\u001b[0m\u001b[1;33m\u001b[0m\u001b[0m\n\u001b[1;32m--> 192\u001b[1;33m                 \u001b[0mbuffer\u001b[0m\u001b[1;33m.\u001b[0m\u001b[0mappend\u001b[0m\u001b[1;33m(\u001b[0m\u001b[0mstate\u001b[0m\u001b[1;33m,\u001b[0m \u001b[0maction\u001b[0m\u001b[1;33m,\u001b[0m \u001b[0mreward\u001b[0m\u001b[1;33m,\u001b[0m \u001b[0mnext_state\u001b[0m\u001b[1;33m,\u001b[0m \u001b[0mdone\u001b[0m\u001b[1;33m)\u001b[0m\u001b[1;33m\u001b[0m\u001b[1;33m\u001b[0m\u001b[0m\n\u001b[0m\u001b[0;32m    193\u001b[0m \u001b[1;33m\u001b[0m\u001b[0m\n\u001b[0;32m    194\u001b[0m                 \u001b[1;31m# reset for the next rount\u001b[0m\u001b[1;33m\u001b[0m\u001b[1;33m\u001b[0m\u001b[1;33m\u001b[0m\u001b[0m\n",
      "\u001b[1;32m~\\workspaces\\udacity\\projects\\drl_agent_navigation\\joe_agents\\prioritized_er_buffer.py\u001b[0m in \u001b[0;36mappend\u001b[1;34m(self, state, action, reward, next_state, done)\u001b[0m\n\u001b[0;32m     62\u001b[0m             \u001b[0mdone\u001b[0m \u001b[1;33m(\u001b[0m\u001b[0mbool\u001b[0m\u001b[1;33m)\u001b[0m\u001b[1;33m:\u001b[0m\u001b[1;33m\u001b[0m\u001b[1;33m\u001b[0m\u001b[0m\n\u001b[0;32m     63\u001b[0m         \"\"\"\n\u001b[1;32m---> 64\u001b[1;33m         \u001b[0mdt\u001b[0m \u001b[1;33m=\u001b[0m \u001b[0mreward\u001b[0m \u001b[1;33m+\u001b[0m \u001b[0mself\u001b[0m\u001b[1;33m.\u001b[0m\u001b[0mgamma\u001b[0m \u001b[1;33m*\u001b[0m \u001b[0mnp\u001b[0m\u001b[1;33m.\u001b[0m\u001b[0mamax\u001b[0m\u001b[1;33m(\u001b[0m\u001b[0mself\u001b[0m\u001b[1;33m.\u001b[0m\u001b[0m_value_function\u001b[0m\u001b[1;33m(\u001b[0m\u001b[0mnext_state\u001b[0m\u001b[1;33m)\u001b[0m\u001b[1;33m)\u001b[0m \u001b[1;33m-\u001b[0m \u001b[0mself\u001b[0m\u001b[1;33m.\u001b[0m\u001b[0m_value_function\u001b[0m\u001b[1;33m(\u001b[0m\u001b[0mstate\u001b[0m\u001b[1;33m)\u001b[0m\u001b[1;33m[\u001b[0m\u001b[0maction\u001b[0m\u001b[1;33m]\u001b[0m\u001b[1;33m\u001b[0m\u001b[1;33m\u001b[0m\u001b[0m\n\u001b[0m\u001b[0;32m     65\u001b[0m         \u001b[0mdt\u001b[0m \u001b[1;33m=\u001b[0m \u001b[0mnp\u001b[0m\u001b[1;33m.\u001b[0m\u001b[0mabs\u001b[0m\u001b[1;33m(\u001b[0m\u001b[0mdt\u001b[0m\u001b[1;33m)\u001b[0m\u001b[1;33m\u001b[0m\u001b[1;33m\u001b[0m\u001b[0m\n\u001b[0;32m     66\u001b[0m         \u001b[0mself\u001b[0m\u001b[1;33m.\u001b[0m\u001b[0m_buffer\u001b[0m\u001b[1;33m.\u001b[0m\u001b[0mappend\u001b[0m\u001b[1;33m(\u001b[0m\u001b[1;33m(\u001b[0m\u001b[0mdt\u001b[0m\u001b[1;33m,\u001b[0m \u001b[0mstate\u001b[0m\u001b[1;33m,\u001b[0m \u001b[0maction\u001b[0m\u001b[1;33m,\u001b[0m \u001b[0mreward\u001b[0m\u001b[1;33m,\u001b[0m \u001b[0mnext_state\u001b[0m\u001b[1;33m,\u001b[0m \u001b[0mdone\u001b[0m\u001b[1;33m)\u001b[0m\u001b[1;33m)\u001b[0m\u001b[1;33m\u001b[0m\u001b[1;33m\u001b[0m\u001b[0m\n",
      "\u001b[1;32m~\\workspaces\\udacity\\projects\\drl_agent_navigation\\joe_agents\\q_network_value_function.py\u001b[0m in \u001b[0;36m__call__\u001b[1;34m(self, state)\u001b[0m\n\u001b[0;32m     33\u001b[0m         \u001b[0mself\u001b[0m\u001b[1;33m.\u001b[0m\u001b[0m_network\u001b[0m\u001b[1;33m.\u001b[0m\u001b[0meval\u001b[0m\u001b[1;33m(\u001b[0m\u001b[1;33m)\u001b[0m\u001b[1;33m\u001b[0m\u001b[1;33m\u001b[0m\u001b[0m\n\u001b[0;32m     34\u001b[0m         \u001b[1;32mwith\u001b[0m \u001b[0mtorch\u001b[0m\u001b[1;33m.\u001b[0m\u001b[0mno_grad\u001b[0m\u001b[1;33m(\u001b[0m\u001b[1;33m)\u001b[0m\u001b[1;33m:\u001b[0m\u001b[1;33m\u001b[0m\u001b[1;33m\u001b[0m\u001b[0m\n\u001b[1;32m---> 35\u001b[1;33m             \u001b[0maction_values\u001b[0m \u001b[1;33m=\u001b[0m \u001b[0mself\u001b[0m\u001b[1;33m.\u001b[0m\u001b[0m_network\u001b[0m\u001b[1;33m(\u001b[0m\u001b[0mstate\u001b[0m\u001b[1;33m)\u001b[0m\u001b[1;33m\u001b[0m\u001b[1;33m\u001b[0m\u001b[0m\n\u001b[0m\u001b[0;32m     36\u001b[0m         \u001b[0mself\u001b[0m\u001b[1;33m.\u001b[0m\u001b[0m_network\u001b[0m\u001b[1;33m.\u001b[0m\u001b[0mtrain\u001b[0m\u001b[1;33m(\u001b[0m\u001b[1;33m)\u001b[0m\u001b[1;33m\u001b[0m\u001b[1;33m\u001b[0m\u001b[0m\n\u001b[0;32m     37\u001b[0m \u001b[1;33m\u001b[0m\u001b[0m\n",
      "\u001b[1;32m~\\AppData\\Local\\Programs\\Python\\Python38\\lib\\site-packages\\torch\\nn\\modules\\module.py\u001b[0m in \u001b[0;36m_call_impl\u001b[1;34m(self, *input, **kwargs)\u001b[0m\n\u001b[0;32m    887\u001b[0m             \u001b[0mresult\u001b[0m \u001b[1;33m=\u001b[0m \u001b[0mself\u001b[0m\u001b[1;33m.\u001b[0m\u001b[0m_slow_forward\u001b[0m\u001b[1;33m(\u001b[0m\u001b[1;33m*\u001b[0m\u001b[0minput\u001b[0m\u001b[1;33m,\u001b[0m \u001b[1;33m**\u001b[0m\u001b[0mkwargs\u001b[0m\u001b[1;33m)\u001b[0m\u001b[1;33m\u001b[0m\u001b[1;33m\u001b[0m\u001b[0m\n\u001b[0;32m    888\u001b[0m         \u001b[1;32melse\u001b[0m\u001b[1;33m:\u001b[0m\u001b[1;33m\u001b[0m\u001b[1;33m\u001b[0m\u001b[0m\n\u001b[1;32m--> 889\u001b[1;33m             \u001b[0mresult\u001b[0m \u001b[1;33m=\u001b[0m \u001b[0mself\u001b[0m\u001b[1;33m.\u001b[0m\u001b[0mforward\u001b[0m\u001b[1;33m(\u001b[0m\u001b[1;33m*\u001b[0m\u001b[0minput\u001b[0m\u001b[1;33m,\u001b[0m \u001b[1;33m**\u001b[0m\u001b[0mkwargs\u001b[0m\u001b[1;33m)\u001b[0m\u001b[1;33m\u001b[0m\u001b[1;33m\u001b[0m\u001b[0m\n\u001b[0m\u001b[0;32m    890\u001b[0m         for hook in itertools.chain(\n\u001b[0;32m    891\u001b[0m                 \u001b[0m_global_forward_hooks\u001b[0m\u001b[1;33m.\u001b[0m\u001b[0mvalues\u001b[0m\u001b[1;33m(\u001b[0m\u001b[1;33m)\u001b[0m\u001b[1;33m,\u001b[0m\u001b[1;33m\u001b[0m\u001b[1;33m\u001b[0m\u001b[0m\n",
      "\u001b[1;32m~\\workspaces\\udacity\\projects\\drl_agent_navigation\\joe_agents\\q_network.py\u001b[0m in \u001b[0;36mforward\u001b[1;34m(self, x)\u001b[0m\n\u001b[0;32m     50\u001b[0m             \u001b[0mx\u001b[0m \u001b[1;33m(\u001b[0m\u001b[0marray\u001b[0m\u001b[1;33m)\u001b[0m\u001b[1;33m:\u001b[0m \u001b[0mThe\u001b[0m \u001b[0mcurrent\u001b[0m \u001b[0mstate\u001b[0m \u001b[0mof\u001b[0m \u001b[0mthe\u001b[0m \u001b[0menvironment\u001b[0m\u001b[1;33m.\u001b[0m\u001b[1;33m\u001b[0m\u001b[1;33m\u001b[0m\u001b[0m\n\u001b[0;32m     51\u001b[0m         \"\"\"\n\u001b[1;32m---> 52\u001b[1;33m         \u001b[0mx\u001b[0m \u001b[1;33m=\u001b[0m \u001b[0mself\u001b[0m\u001b[1;33m.\u001b[0m\u001b[0min_layer\u001b[0m\u001b[1;33m(\u001b[0m\u001b[0mx\u001b[0m\u001b[1;33m)\u001b[0m\u001b[1;33m\u001b[0m\u001b[1;33m\u001b[0m\u001b[0m\n\u001b[0m\u001b[0;32m     53\u001b[0m         \u001b[0mx\u001b[0m \u001b[1;33m=\u001b[0m \u001b[0mself\u001b[0m\u001b[1;33m.\u001b[0m\u001b[0mrelu\u001b[0m\u001b[1;33m(\u001b[0m\u001b[0mx\u001b[0m\u001b[1;33m)\u001b[0m\u001b[1;33m\u001b[0m\u001b[1;33m\u001b[0m\u001b[0m\n\u001b[0;32m     54\u001b[0m         \u001b[0mx\u001b[0m \u001b[1;33m=\u001b[0m \u001b[0mself\u001b[0m\u001b[1;33m.\u001b[0m\u001b[0mhidden\u001b[0m\u001b[1;33m(\u001b[0m\u001b[0mx\u001b[0m\u001b[1;33m)\u001b[0m\u001b[1;33m\u001b[0m\u001b[1;33m\u001b[0m\u001b[0m\n",
      "\u001b[1;32m~\\AppData\\Local\\Programs\\Python\\Python38\\lib\\site-packages\\torch\\nn\\modules\\module.py\u001b[0m in \u001b[0;36m_call_impl\u001b[1;34m(self, *input, **kwargs)\u001b[0m\n\u001b[0;32m    887\u001b[0m             \u001b[0mresult\u001b[0m \u001b[1;33m=\u001b[0m \u001b[0mself\u001b[0m\u001b[1;33m.\u001b[0m\u001b[0m_slow_forward\u001b[0m\u001b[1;33m(\u001b[0m\u001b[1;33m*\u001b[0m\u001b[0minput\u001b[0m\u001b[1;33m,\u001b[0m \u001b[1;33m**\u001b[0m\u001b[0mkwargs\u001b[0m\u001b[1;33m)\u001b[0m\u001b[1;33m\u001b[0m\u001b[1;33m\u001b[0m\u001b[0m\n\u001b[0;32m    888\u001b[0m         \u001b[1;32melse\u001b[0m\u001b[1;33m:\u001b[0m\u001b[1;33m\u001b[0m\u001b[1;33m\u001b[0m\u001b[0m\n\u001b[1;32m--> 889\u001b[1;33m             \u001b[0mresult\u001b[0m \u001b[1;33m=\u001b[0m \u001b[0mself\u001b[0m\u001b[1;33m.\u001b[0m\u001b[0mforward\u001b[0m\u001b[1;33m(\u001b[0m\u001b[1;33m*\u001b[0m\u001b[0minput\u001b[0m\u001b[1;33m,\u001b[0m \u001b[1;33m**\u001b[0m\u001b[0mkwargs\u001b[0m\u001b[1;33m)\u001b[0m\u001b[1;33m\u001b[0m\u001b[1;33m\u001b[0m\u001b[0m\n\u001b[0m\u001b[0;32m    890\u001b[0m         for hook in itertools.chain(\n\u001b[0;32m    891\u001b[0m                 \u001b[0m_global_forward_hooks\u001b[0m\u001b[1;33m.\u001b[0m\u001b[0mvalues\u001b[0m\u001b[1;33m(\u001b[0m\u001b[1;33m)\u001b[0m\u001b[1;33m,\u001b[0m\u001b[1;33m\u001b[0m\u001b[1;33m\u001b[0m\u001b[0m\n",
      "\u001b[1;32m~\\AppData\\Local\\Programs\\Python\\Python38\\lib\\site-packages\\torch\\nn\\modules\\linear.py\u001b[0m in \u001b[0;36mforward\u001b[1;34m(self, input)\u001b[0m\n\u001b[0;32m     92\u001b[0m \u001b[1;33m\u001b[0m\u001b[0m\n\u001b[0;32m     93\u001b[0m     \u001b[1;32mdef\u001b[0m \u001b[0mforward\u001b[0m\u001b[1;33m(\u001b[0m\u001b[0mself\u001b[0m\u001b[1;33m,\u001b[0m \u001b[0minput\u001b[0m\u001b[1;33m:\u001b[0m \u001b[0mTensor\u001b[0m\u001b[1;33m)\u001b[0m \u001b[1;33m->\u001b[0m \u001b[0mTensor\u001b[0m\u001b[1;33m:\u001b[0m\u001b[1;33m\u001b[0m\u001b[1;33m\u001b[0m\u001b[0m\n\u001b[1;32m---> 94\u001b[1;33m         \u001b[1;32mreturn\u001b[0m \u001b[0mF\u001b[0m\u001b[1;33m.\u001b[0m\u001b[0mlinear\u001b[0m\u001b[1;33m(\u001b[0m\u001b[0minput\u001b[0m\u001b[1;33m,\u001b[0m \u001b[0mself\u001b[0m\u001b[1;33m.\u001b[0m\u001b[0mweight\u001b[0m\u001b[1;33m,\u001b[0m \u001b[0mself\u001b[0m\u001b[1;33m.\u001b[0m\u001b[0mbias\u001b[0m\u001b[1;33m)\u001b[0m\u001b[1;33m\u001b[0m\u001b[1;33m\u001b[0m\u001b[0m\n\u001b[0m\u001b[0;32m     95\u001b[0m \u001b[1;33m\u001b[0m\u001b[0m\n\u001b[0;32m     96\u001b[0m     \u001b[1;32mdef\u001b[0m \u001b[0mextra_repr\u001b[0m\u001b[1;33m(\u001b[0m\u001b[0mself\u001b[0m\u001b[1;33m)\u001b[0m \u001b[1;33m->\u001b[0m \u001b[0mstr\u001b[0m\u001b[1;33m:\u001b[0m\u001b[1;33m\u001b[0m\u001b[1;33m\u001b[0m\u001b[0m\n",
      "\u001b[1;32m~\\AppData\\Local\\Programs\\Python\\Python38\\lib\\site-packages\\torch\\nn\\functional.py\u001b[0m in \u001b[0;36mlinear\u001b[1;34m(input, weight, bias)\u001b[0m\n\u001b[0;32m   1751\u001b[0m     \u001b[1;32mif\u001b[0m \u001b[0mhas_torch_function_variadic\u001b[0m\u001b[1;33m(\u001b[0m\u001b[0minput\u001b[0m\u001b[1;33m,\u001b[0m \u001b[0mweight\u001b[0m\u001b[1;33m)\u001b[0m\u001b[1;33m:\u001b[0m\u001b[1;33m\u001b[0m\u001b[1;33m\u001b[0m\u001b[0m\n\u001b[0;32m   1752\u001b[0m         \u001b[1;32mreturn\u001b[0m \u001b[0mhandle_torch_function\u001b[0m\u001b[1;33m(\u001b[0m\u001b[0mlinear\u001b[0m\u001b[1;33m,\u001b[0m \u001b[1;33m(\u001b[0m\u001b[0minput\u001b[0m\u001b[1;33m,\u001b[0m \u001b[0mweight\u001b[0m\u001b[1;33m)\u001b[0m\u001b[1;33m,\u001b[0m \u001b[0minput\u001b[0m\u001b[1;33m,\u001b[0m \u001b[0mweight\u001b[0m\u001b[1;33m,\u001b[0m \u001b[0mbias\u001b[0m\u001b[1;33m=\u001b[0m\u001b[0mbias\u001b[0m\u001b[1;33m)\u001b[0m\u001b[1;33m\u001b[0m\u001b[1;33m\u001b[0m\u001b[0m\n\u001b[1;32m-> 1753\u001b[1;33m     \u001b[1;32mreturn\u001b[0m \u001b[0mtorch\u001b[0m\u001b[1;33m.\u001b[0m\u001b[0m_C\u001b[0m\u001b[1;33m.\u001b[0m\u001b[0m_nn\u001b[0m\u001b[1;33m.\u001b[0m\u001b[0mlinear\u001b[0m\u001b[1;33m(\u001b[0m\u001b[0minput\u001b[0m\u001b[1;33m,\u001b[0m \u001b[0mweight\u001b[0m\u001b[1;33m,\u001b[0m \u001b[0mbias\u001b[0m\u001b[1;33m)\u001b[0m\u001b[1;33m\u001b[0m\u001b[1;33m\u001b[0m\u001b[0m\n\u001b[0m\u001b[0;32m   1754\u001b[0m \u001b[1;33m\u001b[0m\u001b[0m\n\u001b[0;32m   1755\u001b[0m \u001b[1;33m\u001b[0m\u001b[0m\n",
      "\u001b[1;31mKeyboardInterrupt\u001b[0m: "
     ]
    }
   ],
   "source": [
    "for i, params in enumerate(exp_iter):\n",
    "    wkspc_folder = os.path.join(exp_folder, f\"exp_{i}\")\n",
    "    os.mkdir(wkspc_folder)\n",
    "    agent = DqnAgent(37, 4, params)\n",
    "    scores, epsilons, buffer_stats = agent.train(env)\n",
    "    agent.save(os.path.join(wkspc_folder, \"checkpoint.pth\"))\n",
    "    param_file = os.path.join(wkspc_folder, \"params.json\")\n",
    "    with open(param_file, 'w') as f:\n",
    "        json.dump(params, f)\n",
    "        \n",
    "    scores_file = os.path.join(wkspc_folder, \"scores.json\")\n",
    "    with open(scores_file, 'w') as f:\n",
    "        json.dump(scores, f)\n",
    "        \n",
    "    epsilons_file = os.path.join(wkspc_folder, \"epsilons.json\")\n",
    "    with open(epsilons_file, 'w') as f:\n",
    "        json.dump(epsilons, f)\n",
    "        \n",
    "    buffer_stats_file = os.path.join(wkspc_folder, \"buffer_stats.json\")\n",
    "    with open(buffer_stats_file, 'w') as f:\n",
    "        json.dump(buffer_stats, f)"
   ]
  },
  {
   "cell_type": "code",
   "execution_count": 12,
   "id": "f88eff72",
   "metadata": {},
   "outputs": [],
   "source": [
    "env.close()"
   ]
  },
  {
   "cell_type": "code",
   "execution_count": null,
   "id": "3cf8f210-7119-465f-b1c7-c62deae7e915",
   "metadata": {},
   "outputs": [],
   "source": []
  }
 ],
 "metadata": {
  "kernelspec": {
   "display_name": "nav_38",
   "language": "python",
   "name": "nav_38"
  },
  "language_info": {
   "codemirror_mode": {
    "name": "ipython",
    "version": 3
   },
   "file_extension": ".py",
   "mimetype": "text/x-python",
   "name": "python",
   "nbconvert_exporter": "python",
   "pygments_lexer": "ipython3",
   "version": "3.8.10"
  }
 },
 "nbformat": 4,
 "nbformat_minor": 5
}

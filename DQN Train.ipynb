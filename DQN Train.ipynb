{
 "cells": [
  {
   "cell_type": "markdown",
   "id": "cfd7b90f",
   "metadata": {},
   "source": [
    "# Train DQN"
   ]
  },
  {
   "cell_type": "code",
   "execution_count": 1,
   "id": "1019f21d",
   "metadata": {},
   "outputs": [],
   "source": [
    "# autoreload code changes\n",
    "%load_ext autoreload\n",
    "%autoreload 2"
   ]
  },
  {
   "cell_type": "code",
   "execution_count": 2,
   "id": "ee515b51",
   "metadata": {},
   "outputs": [],
   "source": [
    "from matplotlib import pyplot as plt"
   ]
  },
  {
   "cell_type": "code",
   "execution_count": 3,
   "id": "2f512db9",
   "metadata": {},
   "outputs": [],
   "source": [
    "from banana_env import BananaEnv\n",
    "from joe_agents.dqn_agent import DqnAgent"
   ]
  },
  {
   "cell_type": "markdown",
   "id": "beb7e4d0",
   "metadata": {},
   "source": [
    "## Train a Default Network"
   ]
  },
  {
   "cell_type": "code",
   "execution_count": 4,
   "id": "862eb5c0",
   "metadata": {
    "scrolled": true
   },
   "outputs": [
    {
     "name": "stderr",
     "output_type": "stream",
     "text": [
      "INFO:unityagents:\n",
      "'Academy' started successfully!\n",
      "Unity Academy name: Academy\n",
      "        Number of Brains: 1\n",
      "        Number of External Brains : 1\n",
      "        Lesson number : 0\n",
      "        Reset Parameters :\n",
      "\t\t\n",
      "Unity brain name: BananaBrain\n",
      "        Number of Visual Observations (per agent): 0\n",
      "        Vector Observation space type: continuous\n",
      "        Vector Observation space size (per agent): 37\n",
      "        Number of stacked Vector Observation: 1\n",
      "        Vector Action space type: discrete\n",
      "        Vector Action space size (per agent): 4\n",
      "        Vector Action descriptions: , , , \n"
     ]
    }
   ],
   "source": [
    "# create the environment\n",
    "exe = \"../../deep-reinforcement-learning/p1_navigation/Banana_Windows_x86_64/Banana.exe\"\n",
    "evn_config = {\"executable\": exe, \"train_mode\": True}\n",
    "env = BananaEnv(evn_config)"
   ]
  },
  {
   "cell_type": "code",
   "execution_count": 5,
   "id": "1fabd7f9",
   "metadata": {},
   "outputs": [],
   "source": [
    "params = {\n",
    "    \"episodes\": 1000,\n",
    "    \"batch_size\": 64,\n",
    "    \"buffer_size\": 10000,\n",
    "    \"learning_rate\": 5e-4,\n",
    "    \"discount_rate\": 0.9,\n",
    "    \"update_rate\": 4,\n",
    "    \"epsilon_decay\": 0.9,\n",
    "    \"epsilon_decay_rate\": 1,\n",
    "    \"min_epsilon\": 0.01,\n",
    "    \"replay\": \"prioritized\",\n",
    "    \"prioritized_replay_damp\": 0.6,\n",
    "    \"e_constant\": 1e-6,\n",
    "    \"prioritized_replay_beta_anneal_rate\": 100,\n",
    "    \"learning_start\": 64,\n",
    "    \"double_dqn\": True,\n",
    "    \"deuling_dqn\": True\n",
    "}"
   ]
  },
  {
   "cell_type": "code",
   "execution_count": 6,
   "id": "5ea57715",
   "metadata": {},
   "outputs": [],
   "source": [
    "agent = DqnAgent(37, 4, params)"
   ]
  },
  {
   "cell_type": "code",
   "execution_count": null,
   "id": "88ebe946",
   "metadata": {
    "scrolled": true
   },
   "outputs": [
    {
     "name": "stderr",
     "output_type": "stream",
     "text": [
      " 55%|██████████████████████████████████████████████████▌                                         | 550/1000 [36:32<29:08,  3.89s/it]"
     ]
    }
   ],
   "source": [
    "scores, epsilons, buffer_stats = agent.train(env)"
   ]
  },
  {
   "cell_type": "code",
   "execution_count": null,
   "id": "0b6a42f2",
   "metadata": {},
   "outputs": [],
   "source": [
    "plt.plot(scores)\n",
    "plt.show()"
   ]
  },
  {
   "cell_type": "code",
   "execution_count": null,
   "id": "3adb2511",
   "metadata": {},
   "outputs": [],
   "source": [
    "plt.plot(epsilons)\n",
    "plt.show()"
   ]
  },
  {
   "cell_type": "code",
   "execution_count": null,
   "id": "11dbd9c9",
   "metadata": {},
   "outputs": [],
   "source": [
    "plt.plot(buffer_stats[\"batch_reward_sums\"])\n",
    "plt.show()"
   ]
  },
  {
   "cell_type": "code",
   "execution_count": null,
   "id": "b3978434",
   "metadata": {},
   "outputs": [],
   "source": [
    "plt.plot(buffer_stats[\"batch_buffer_len\"])\n",
    "plt.show()"
   ]
  },
  {
   "cell_type": "code",
   "execution_count": null,
   "id": "76d3ee1b-52d4-4501-a773-8555c288fae0",
   "metadata": {},
   "outputs": [],
   "source": [
    "plt.plot(buffer_stats[\"prioritized_replay_beta\"])\n",
    "plt.show()"
   ]
  },
  {
   "cell_type": "code",
   "execution_count": null,
   "id": "f88eff72",
   "metadata": {},
   "outputs": [],
   "source": [
    "env.close()"
   ]
  },
  {
   "cell_type": "code",
   "execution_count": null,
   "id": "843d87d7",
   "metadata": {},
   "outputs": [],
   "source": [
    "# save the agent for playback\n",
    "agent.save()"
   ]
  },
  {
   "cell_type": "code",
   "execution_count": null,
   "id": "4b224c10-e0eb-4819-84aa-2b3ea5004006",
   "metadata": {},
   "outputs": [],
   "source": []
  }
 ],
 "metadata": {
  "kernelspec": {
   "display_name": "nav_38",
   "language": "python",
   "name": "nav_38"
  },
  "language_info": {
   "codemirror_mode": {
    "name": "ipython",
    "version": 3
   },
   "file_extension": ".py",
   "mimetype": "text/x-python",
   "name": "python",
   "nbconvert_exporter": "python",
   "pygments_lexer": "ipython3",
   "version": "3.8.10"
  }
 },
 "nbformat": 4,
 "nbformat_minor": 5
}

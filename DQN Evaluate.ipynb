{
 "cells": [
  {
   "cell_type": "markdown",
   "id": "b5058afa-a1ad-43ac-812f-6ea12417fab9",
   "metadata": {},
   "source": [
    "# Evaluate DQN"
   ]
  },
  {
   "cell_type": "code",
   "execution_count": 1,
   "id": "ce4f1e24-81ba-460c-990a-71e93b3174ad",
   "metadata": {},
   "outputs": [],
   "source": [
    "# autoreload code changes\n",
    "%load_ext autoreload\n",
    "%autoreload 2"
   ]
  },
  {
   "cell_type": "code",
   "execution_count": 10,
   "id": "534022c1-7e9b-4504-8b63-d603579b4837",
   "metadata": {},
   "outputs": [],
   "source": [
    "import numpy as np"
   ]
  },
  {
   "cell_type": "code",
   "execution_count": 2,
   "id": "60c58844-0882-4d92-9092-0a2f63129170",
   "metadata": {},
   "outputs": [],
   "source": [
    "from matplotlib import pyplot as plt"
   ]
  },
  {
   "cell_type": "code",
   "execution_count": 3,
   "id": "eb5f91bb-2232-4ebc-9fa6-37ac8be85edb",
   "metadata": {},
   "outputs": [],
   "source": [
    "from banana_env import BananaEnv\n",
    "from joe_agents.dqn_agent import DqnAgent"
   ]
  },
  {
   "cell_type": "markdown",
   "id": "c136daed-85ae-4278-ac1e-476b641bc0bb",
   "metadata": {},
   "source": [
    "## Train a Default Network"
   ]
  },
  {
   "cell_type": "code",
   "execution_count": 4,
   "id": "eb278079-1f81-4368-92c4-b614125f9525",
   "metadata": {
    "scrolled": true
   },
   "outputs": [
    {
     "name": "stderr",
     "output_type": "stream",
     "text": [
      "INFO:unityagents:\n",
      "'Academy' started successfully!\n",
      "Unity Academy name: Academy\n",
      "        Number of Brains: 1\n",
      "        Number of External Brains : 1\n",
      "        Lesson number : 0\n",
      "        Reset Parameters :\n",
      "\t\t\n",
      "Unity brain name: BananaBrain\n",
      "        Number of Visual Observations (per agent): 0\n",
      "        Vector Observation space type: continuous\n",
      "        Vector Observation space size (per agent): 37\n",
      "        Number of stacked Vector Observation: 1\n",
      "        Vector Action space type: discrete\n",
      "        Vector Action space size (per agent): 4\n",
      "        Vector Action descriptions: , , , \n"
     ]
    }
   ],
   "source": [
    "# create the environment\n",
    "exe = \"../../deep-reinforcement-learning/p1_navigation/Banana_Windows_x86_64/Banana.exe\"\n",
    "evn_config = {\"executable\": exe, \"train_mode\": True}\n",
    "env = BananaEnv(evn_config)"
   ]
  },
  {
   "cell_type": "code",
   "execution_count": 5,
   "id": "5255c750-e462-4b1e-a854-cf058699309a",
   "metadata": {},
   "outputs": [],
   "source": [
    "params = {\n",
    "    \"episodes\": 1000,\n",
    "    \"batch_size\": 64,\n",
    "    \"buffer_size\": 10000,\n",
    "    \"learning_rate\": 5e-4,\n",
    "    \"discount_rate\": 0.9,\n",
    "    \"update_rate\": 4,\n",
    "    \"epsilon_decay\": 0.995,\n",
    "    \"epsilon_decay_rate\": 1,\n",
    "    \"min_epsilon\": 0.01,\n",
    "    \"replay\": \"prioritized\",\n",
    "    \"prioritized_replay_damp\": 0.6,\n",
    "    \"e_constant\": 1e-6,\n",
    "    \"prioritized_replay_beta_anneal_rate\": 100,\n",
    "    \"learning_start\": 64,\n",
    "    \"double_dqn\": True,\n",
    "    \"deuling_dqn\": True\n",
    "}"
   ]
  },
  {
   "cell_type": "code",
   "execution_count": 6,
   "id": "6d9ef3ed-7624-4ece-8bca-4f78939604f8",
   "metadata": {},
   "outputs": [],
   "source": [
    "agent = DqnAgent(37, 4, params)"
   ]
  },
  {
   "cell_type": "code",
   "execution_count": 7,
   "id": "1a7b31ef-d82a-46dd-9a2b-928c42404a67",
   "metadata": {},
   "outputs": [],
   "source": [
    "# load the trained weights from disk\n",
    "agent.load()"
   ]
  },
  {
   "cell_type": "code",
   "execution_count": 8,
   "id": "3accd34a-7a42-465f-9d06-09fa8800a87c",
   "metadata": {},
   "outputs": [],
   "source": [
    "# perform 100 trials and observe how it performs\n",
    "scores = []\n",
    "for _ in range(100):\n",
    "    state = env.reset()\n",
    "    score = 0\n",
    "    done = False\n",
    "    while not done:\n",
    "        action = agent.act(state)\n",
    "        state, reward, done, _ = env.step(action)\n",
    "        score += reward\n",
    "    scores.append(score)"
   ]
  },
  {
   "cell_type": "code",
   "execution_count": 11,
   "id": "28948ce8-5b6e-47ec-b950-f4819940c87f",
   "metadata": {},
   "outputs": [],
   "source": [
    "avg_score = np.mean(scores)"
   ]
  },
  {
   "cell_type": "code",
   "execution_count": 12,
   "id": "8a64a69c-5ed0-4a76-beb9-8c6591a65b42",
   "metadata": {},
   "outputs": [
    {
     "data": {
      "text/plain": [
       "[<matplotlib.lines.Line2D at 0x231c004b910>]"
      ]
     },
     "execution_count": 12,
     "metadata": {},
     "output_type": "execute_result"
    },
    {
     "data": {
      "image/png": "[encoded data removed]",
      "text/plain": [
       "<Figure size 432x288 with 1 Axes>"
      ]
     },
     "metadata": {
      "needs_background": "light"
     },
     "output_type": "display_data"
    }
   ],
   "source": [
    "plt.plot(scores)"
   ]
  },
  {
   "cell_type": "code",
   "execution_count": 14,
   "id": "747315fa-7c27-42bf-b077-c9370edc63be",
   "metadata": {},
   "outputs": [
    {
     "name": "stdout",
     "output_type": "stream",
     "text": [
      "Average score: 1.56\n"
     ]
    }
   ],
   "source": [
    "print(\"Average score:\", avg_score)"
   ]
  },
  {
   "cell_type": "code",
   "execution_count": 15,
   "id": "3efb5f0a-883a-4f06-8951-443294ae41e0",
   "metadata": {},
   "outputs": [],
   "source": [
    "env.close()"
   ]
  },
  {
   "cell_type": "code",
   "execution_count": null,
   "id": "3dae1dee-3cf8-4ca6-9f4a-c37327c7facf",
   "metadata": {},
   "outputs": [],
   "source": []
  }
 ],
 "metadata": {
  "kernelspec": {
   "display_name": "nav_38",
   "language": "python",
   "name": "nav_38"
  },
  "language_info": {
   "codemirror_mode": {
    "name": "ipython",
    "version": 3
   },
   "file_extension": ".py",
   "mimetype": "text/x-python",
   "name": "python",
   "nbconvert_exporter": "python",
   "pygments_lexer": "ipython3",
   "version": "3.8.10"
  }
 },
 "nbformat": 4,
 "nbformat_minor": 5
}

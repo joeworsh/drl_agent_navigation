{
 "cells": [
  {
   "cell_type": "markdown",
   "id": "db9f44cc",
   "metadata": {},
   "source": [
    "# Test with RLLib"
   ]
  },
  {
   "cell_type": "code",
   "execution_count": 1,
   "id": "dca85e18",
   "metadata": {},
   "outputs": [],
   "source": [
    "# autoreload code changes\n",
    "%load_ext autoreload\n",
    "%autoreload 2"
   ]
  },
  {
   "cell_type": "code",
   "execution_count": 2,
   "id": "4aad886c",
   "metadata": {},
   "outputs": [],
   "source": [
    "%matplotlib inline\n",
    "from matplotlib import pyplot as plt"
   ]
  },
  {
   "cell_type": "code",
   "execution_count": 3,
   "id": "e1415409",
   "metadata": {},
   "outputs": [],
   "source": [
    "from tqdm import tqdm"
   ]
  },
  {
   "cell_type": "code",
   "execution_count": 4,
   "id": "d48ee983",
   "metadata": {},
   "outputs": [],
   "source": [
    "from banana_env import BananaEnv"
   ]
  },
  {
   "cell_type": "code",
   "execution_count": 5,
   "id": "4afc44af",
   "metadata": {},
   "outputs": [
    {
     "name": "stderr",
     "output_type": "stream",
     "text": [
      "WARNING:tensorflow:From C:\\Users\\joewo\\AppData\\Local\\Programs\\Python\\Python38\\lib\\site-packages\\tensorflow\\python\\compat\\v2_compat.py:96: disable_resource_variables (from tensorflow.python.ops.variable_scope) is deprecated and will be removed in a future version.\n",
      "Instructions for updating:\n",
      "non-resource variables are not supported in the long term\n"
     ]
    }
   ],
   "source": [
    "import ray\n",
    "from ray.rllib.agents import dqn"
   ]
  },
  {
   "cell_type": "code",
   "execution_count": 6,
   "id": "5daca2a7",
   "metadata": {},
   "outputs": [
    {
     "data": {
      "text/plain": [
       "{'node_ip_address': '192.168.0.23',\n",
       " 'raylet_ip_address': '192.168.0.23',\n",
       " 'redis_address': '192.168.0.23:6379',\n",
       " 'object_store_address': 'tcp://127.0.0.1:64017',\n",
       " 'raylet_socket_name': 'tcp://127.0.0.1:64531',\n",
       " 'webui_url': None,\n",
       " 'session_dir': 'C:\\\\Users\\\\joewo\\\\AppData\\\\Local\\\\Temp\\\\ray\\\\session_2021-05-28_17-13-26_576609_15196',\n",
       " 'metrics_export_port': 64612,\n",
       " 'node_id': '64ecaa2477c5bd374c392c642072cced76cca980733ead48168214fe'}"
      ]
     },
     "execution_count": 6,
     "metadata": {},
     "output_type": "execute_result"
    }
   ],
   "source": [
    "ray.init(include_dashboard=False)"
   ]
  },
  {
   "cell_type": "code",
   "execution_count": 7,
   "id": "c4121696",
   "metadata": {},
   "outputs": [],
   "source": [
    "exe = \"../../deep-reinforcement-learning/p1_navigation/Banana_Windows_x86_64/Banana.exe\""
   ]
  },
  {
   "cell_type": "code",
   "execution_count": 8,
   "id": "f146a031",
   "metadata": {},
   "outputs": [
    {
     "name": "stderr",
     "output_type": "stream",
     "text": [
      "2021-05-28 17:14:28,266\tINFO trainer.py:694 -- Current log_level is WARN. For more information, set 'log_level': 'INFO' / 'DEBUG' or use the -v and -vv flags.\n",
      "INFO:unityagents:\n",
      "'Academy' started successfully!\n",
      "Unity Academy name: Academy\n",
      "        Number of Brains: 1\n",
      "        Number of External Brains : 1\n",
      "        Lesson number : 0\n",
      "        Reset Parameters :\n",
      "\t\t\n",
      "Unity brain name: BananaBrain\n",
      "        Number of Visual Observations (per agent): 0\n",
      "        Vector Observation space type: continuous\n",
      "        Vector Observation space size (per agent): 37\n",
      "        Number of stacked Vector Observation: 1\n",
      "        Vector Action space type: discrete\n",
      "        Vector Action space size (per agent): 4\n",
      "        Vector Action descriptions: , , , \n",
      "2021-05-28 17:14:33,274\tWARNING util.py:53 -- Install gputil for GPU system monitoring.\n"
     ]
    }
   ],
   "source": [
    "config = dqn.DEFAULT_CONFIG\n",
    "config[\"framework\"] = \"torch\"\n",
    "config[\"env_config\"] = {\"executable\": exe, \"train_mode\": True}\n",
    "trainer = dqn.DQNTrainer(env=BananaEnv, config=config)"
   ]
  },
  {
   "cell_type": "code",
   "execution_count": 13,
   "id": "80218028",
   "metadata": {
    "scrolled": true
   },
   "outputs": [
    {
     "name": "stderr",
     "output_type": "stream",
     "text": [
      "100%|█████████████████████████████████████████████████████████████████████████████████████████| 1000/1000 [4:07:11<00:00, 14.83s/it]\n"
     ]
    }
   ],
   "source": [
    "mean_rewards = []\n",
    "mean_lens = []\n",
    "for i in tqdm(range(1000)):\n",
    "    # Perform one iteration of training the policy with DQN\n",
    "    result = trainer.train()\n",
    "    mean_rewards.append(result['episode_reward_mean'])\n",
    "    mean_lens.append(result['episode_len_mean'])"
   ]
  },
  {
   "cell_type": "code",
   "execution_count": 14,
   "id": "dd4edf1f",
   "metadata": {},
   "outputs": [
    {
     "data": {
      "image/png": "[encoded data removed]",
      "text/plain": [
       "<Figure size 432x288 with 1 Axes>"
      ]
     },
     "metadata": {
      "needs_background": "light"
     },
     "output_type": "display_data"
    }
   ],
   "source": [
    "plt.plot(mean_rewards)\n",
    "plt.show()"
   ]
  },
  {
   "cell_type": "code",
   "execution_count": 15,
   "id": "6032fb8b",
   "metadata": {},
   "outputs": [
    {
     "data": {
      "image/png": "[encoded data removed]",
      "text/plain": [
       "<Figure size 432x288 with 1 Axes>"
      ]
     },
     "metadata": {
      "needs_background": "light"
     },
     "output_type": "display_data"
    }
   ],
   "source": [
    "plt.plot(mean_lens)\n",
    "plt.show()"
   ]
  },
  {
   "cell_type": "code",
   "execution_count": null,
   "id": "ceb3a69e",
   "metadata": {},
   "outputs": [],
   "source": []
  }
 ],
 "metadata": {
  "kernelspec": {
   "display_name": "nav_38",
   "language": "python",
   "name": "nav_38"
  },
  "language_info": {
   "codemirror_mode": {
    "name": "ipython",
    "version": 3
   },
   "file_extension": ".py",
   "mimetype": "text/x-python",
   "name": "python",
   "nbconvert_exporter": "python",
   "pygments_lexer": "ipython3",
   "version": "3.8.10"
  }
 },
 "nbformat": 4,
 "nbformat_minor": 5
}
